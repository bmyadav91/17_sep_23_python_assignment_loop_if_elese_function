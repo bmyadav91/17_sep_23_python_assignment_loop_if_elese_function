{
 "cells": [
  {
   "cell_type": "code",
   "execution_count": null,
   "id": "b9a8b033-d8c3-4b04-9434-84551c0a4e6d",
   "metadata": {},
   "outputs": [],
   "source": [
    "# 17th september 2023 python assignment - function, lambda, reduce, map filter loop"
   ]
  },
  {
   "cell_type": "code",
   "execution_count": 5,
   "id": "ab32ef40-bd11-4a5b-b35a-422106b4c9ae",
   "metadata": {},
   "outputs": [
    {
     "name": "stdout",
     "output_type": "stream",
     "text": [
      "1, 2, 3, 4, 5, 6, 7, 8, 9, 10, "
     ]
    }
   ],
   "source": [
    "# 1. Write a Python program to print numbers from 1 to 10 using a for loop.\n",
    "for i in range(1,11):\n",
    "    print(i, end=\", \")"
   ]
  },
  {
   "cell_type": "markdown",
   "id": "ef89daa9-4d0c-4d45-9817-8e45b3997e24",
   "metadata": {},
   "source": [
    "# 2. Explain the difference between a for loop and a while loop in Python.\n",
    "In Python, both for and while loops are used for iteration but with different structures and purposes.\n",
    "For Loop: -------------\r\n",
    "Syntax: for item in iterable:\r\n",
    "Used when the number of iterations or the items to iterate through are known or can be determined in advance.\r\n",
    "Iterates over a sequence (such as a list, tuple, string, or range) or any iterable object.\r\n",
    "Executes a block of code for each item in the iterable.\r\n",
    "Commonly used when you have a specific number of iterations or want to iterate through a collection of i\n",
    "\n",
    "Example:-\n",
    "fruits = [\"apple\", \"banana\", \"orange\"]\r\n",
    "for fruit in fruits:\r\n",
    "    print(frui\n",
    "    twhile loop --------\n",
    "Syntax: while condition:\r\n",
    "Used when the number of iterations is not known beforehand and depends on a condition.\r\n",
    "Executes a block of code repeatedly as long as the condition is true.\r\n",
    "The loop continues until the condition becomes false.\r\n",
    "Often used when the termination condition is based on dynamic changes during runt\n",
    "\n",
    "example:--\n",
    "count = 0\r\n",
    "while count < 5:\r\n",
    "    print(count)\r\n",
    "    count += 1\r\n",
    "ime.)\r\n",
    "tems."
   ]
  },
  {
   "cell_type": "code",
   "execution_count": 1,
   "id": "08a5fa9d-2a6f-4a41-aafb-4b4a736a50a3",
   "metadata": {},
   "outputs": [
    {
     "name": "stdout",
     "output_type": "stream",
     "text": [
      "Sum of 1 to 100:  5050\n"
     ]
    }
   ],
   "source": [
    "# 3. Write a Python program to calculate the sum of all numbers from 1 to 100 using a for loop.\n",
    "sum_of = 0\n",
    "for i in range(1,101):\n",
    "    sum_of += i\n",
    "# print result \n",
    "print(f\"Sum of 1 to 100: \", sum_of)"
   ]
  },
  {
   "cell_type": "code",
   "execution_count": 3,
   "id": "673bd943-1004-42f9-b6af-0f0c7f3128f5",
   "metadata": {},
   "outputs": [
    {
     "name": "stdout",
     "output_type": "stream",
     "text": [
      "2, 14, 5, 43, 32, "
     ]
    }
   ],
   "source": [
    "# 4. How do you iterate through a list using a for loop in Python?\n",
    "lst = [2,14,5,43,32]\n",
    "# iterate through the list \n",
    "for li in lst:\n",
    "    print(li, end=\", \")"
   ]
  },
  {
   "cell_type": "code",
   "execution_count": 6,
   "id": "61ae850e-76a7-47cd-8b1b-0592a1aac955",
   "metadata": {},
   "outputs": [
    {
     "name": "stdout",
     "output_type": "stream",
     "text": [
      "Product Of all elements:  19140\n"
     ]
    }
   ],
   "source": [
    "# 5. Write a Python program to find the product of all elements in a list using a for loop.\n",
    "prod_list = [11,29,3,4,5]\n",
    "# iterate through prod_list\n",
    "product = 1\n",
    "for p in prod_list:\n",
    "    product *= p\n",
    "# print result \n",
    "print(\"Product Of all elements: \", product)"
   ]
  },
  {
   "cell_type": "code",
   "execution_count": 8,
   "id": "b9c4f3fd-ac78-4ef0-82b9-13a194a41736",
   "metadata": {},
   "outputs": [
    {
     "name": "stdout",
     "output_type": "stream",
     "text": [
      "2, 4, 6, 8, 10, 12, 14, 16, 18, 20, "
     ]
    }
   ],
   "source": [
    "# 6. Create a Python program that prints all even numbers from 1 to 20 using a for loop.\n",
    "for i in range(1,21):\n",
    "    if i % 2 == 0:\n",
    "        print(i, end=\", \")"
   ]
  },
  {
   "cell_type": "code",
   "execution_count": 9,
   "id": "43ad26aa-f95e-4d87-b1b2-6bfddce086ff",
   "metadata": {},
   "outputs": [
    {
     "name": "stdin",
     "output_type": "stream",
     "text": [
      "Factorial Number Are you looking For?  5\n"
     ]
    },
    {
     "name": "stdout",
     "output_type": "stream",
     "text": [
      "Factorial Number of '5' is: '120'\n"
     ]
    }
   ],
   "source": [
    "# 7. Write a Python program that calculates the factorial of a number using a for loop.\n",
    "n = int(input(\"Factorial Number Are you looking For? \"))\n",
    "# initialize factorial number\n",
    "fac =1\n",
    "for i in range(1,n+1):\n",
    "    fac *=i\n",
    "# print factorial number\n",
    "print(f\"Factorial Number of '{n}' is: '{fac}'\")"
   ]
  },
  {
   "cell_type": "code",
   "execution_count": 12,
   "id": "5354a2df-8b71-446a-be10-12aec31ac840",
   "metadata": {},
   "outputs": [
    {
     "name": "stdout",
     "output_type": "stream",
     "text": [
      "H, e, l, l, o, "
     ]
    }
   ],
   "source": [
    "# 8. How can you iterate through the characters of a string using a for loop in Python?\n",
    "string = \"Hello\"\n",
    "# iterate through string \n",
    "for s in string:\n",
    "    print(s, end=\", \")"
   ]
  },
  {
   "cell_type": "code",
   "execution_count": 13,
   "id": "2d2fc3a6-b20f-4392-bec1-08185f419e0a",
   "metadata": {},
   "outputs": [
    {
     "name": "stdout",
     "output_type": "stream",
     "text": [
      "'346' is max number in ''[2, 55, 66, 34, 57, 99, 346, 44]\n"
     ]
    }
   ],
   "source": [
    "# 9. Write a Python program to find the largest number in a list using a for loop.\n",
    "num_list = [2,55,66,34,57,99,346,44]\n",
    "# initialize max num \n",
    "max_num = num_list[0]\n",
    "# iterate through num_list\n",
    "for n in num_list:\n",
    "    if n > max_num:\n",
    "        max_num = n\n",
    "# print max num\n",
    "print(f\"'{max_num}' is max number in ''{num_list}\")"
   ]
  },
  {
   "cell_type": "code",
   "execution_count": 21,
   "id": "497d7b44-4e66-463d-99b3-0c70621a3114",
   "metadata": {},
   "outputs": [
    {
     "name": "stdout",
     "output_type": "stream",
     "text": [
      "0, 1, 1, 2, 3, 5, 8, 13, 21, 34, "
     ]
    }
   ],
   "source": [
    "# 10. Create a Python program that prints the Fibonacci sequence up to a specified limit using a for loop.\n",
    "# initialize a and b\n",
    "a, b = 0, 1\n",
    "# iterate to print fibonacci sequence\n",
    "for i in range(10):\n",
    "    print(a, end=\", \")\n",
    "    a, b = b, a+b"
   ]
  },
  {
   "cell_type": "code",
   "execution_count": 23,
   "id": "7d011588-03c4-472c-b3a0-5f96daa277a8",
   "metadata": {},
   "outputs": [
    {
     "name": "stdin",
     "output_type": "stream",
     "text": [
      "Enter Any String to count Vowel:  how are you\n"
     ]
    },
    {
     "name": "stdout",
     "output_type": "stream",
     "text": [
      "'5' in 'how are you'\n"
     ]
    }
   ],
   "source": [
    "# 11. Write a Python program to count the number of vowels in a given string using a for loop.\n",
    "given_string = input(\"Enter Any String to count Vowel: \").lower()\n",
    "# intialize count \n",
    "v_count = 0\n",
    "# iterate through the given_string \n",
    "for v in given_string:\n",
    "    if v in \"aeiou\":\n",
    "        v_count +=1\n",
    "# print result\n",
    "print(f\"'{v_count}' in '{given_string}'\")"
   ]
  },
  {
   "cell_type": "code",
   "execution_count": 26,
   "id": "f66e1cfc-1473-4cbb-937c-e0b6520f5e83",
   "metadata": {},
   "outputs": [
    {
     "name": "stdin",
     "output_type": "stream",
     "text": [
      "Which Number Of You Want to print table?  10\n"
     ]
    },
    {
     "name": "stdout",
     "output_type": "stream",
     "text": [
      "10 x 1 = 10\n",
      "10 x 2 = 20\n",
      "10 x 3 = 30\n",
      "10 x 4 = 40\n",
      "10 x 5 = 50\n",
      "10 x 6 = 60\n",
      "10 x 7 = 70\n",
      "10 x 8 = 80\n",
      "10 x 9 = 90\n",
      "10 x 10 = 100\n"
     ]
    }
   ],
   "source": [
    "# 12. Create a Python program that generates a multiplication table for a given number using a for loop.\n",
    "table_want = int(input(\"Which Number Of You Want to print table? \"))\n",
    "# iterate through table_want and print multiplication table \n",
    "for tbl in range(1,11):\n",
    "    print(table_want, \"x\",  tbl, \"=\",  table_want*tbl)"
   ]
  },
  {
   "cell_type": "code",
   "execution_count": 29,
   "id": "6ddd3128-8f1c-47c9-a197-95f17ecd713c",
   "metadata": {},
   "outputs": [
    {
     "name": "stdout",
     "output_type": "stream",
     "text": [
      "10, 9, 8, 7, 6, 5, 4, 3, 2, 1, "
     ]
    }
   ],
   "source": [
    "# 13. Write a Python program to reverse a list using a for loop.\n",
    "lst = [1,2,3,4,5,6,7,8,9,10]\n",
    "# Iterate through list and reverse it \n",
    "for i in reversed(lst):\n",
    "    print(i, end=\", \")"
   ]
  },
  {
   "cell_type": "code",
   "execution_count": 30,
   "id": "b9d77599-6e62-487b-a1eb-554f6c777e23",
   "metadata": {},
   "outputs": [
    {
     "name": "stdout",
     "output_type": "stream",
     "text": [
      "[1, 55, 22, 34] are common elements\n"
     ]
    }
   ],
   "source": [
    "# 14. Write a Python program to find the common elements between two lists using a for loop.\n",
    "list1 = [1,2,3,4,55,6,7,22,34]\n",
    "list2 = [1,0,88,34,56,55,76,22]\n",
    "# initialize common element \n",
    "common_element = []\n",
    "# iterate through list \n",
    "for element_list_one in list1:\n",
    "    if element_list_one in list2:\n",
    "        common_element.append(element_list_one)\n",
    "\n",
    "# print result \n",
    "print(common_element, \"are common elements\")"
   ]
  },
  {
   "cell_type": "code",
   "execution_count": 32,
   "id": "e1398efd-9d42-43ff-b8b9-f50960087cc6",
   "metadata": {},
   "outputs": [
    {
     "name": "stdout",
     "output_type": "stream",
     "text": [
      "Key: Name and Value: BM\n",
      "Key: City and Value: Lucknow\n",
      "Key: Age and Value: 21\n"
     ]
    }
   ],
   "source": [
    "# 15. Explain how to use a for loop to iterate through the keys and values of a dictionary in Python.\n",
    "# to iterate through key and value of a dectionary first we will create dictionary \n",
    "dict1 = {\"Name\":\"BM\", \"City\": \"Lucknow\", \"Age\":\"21\"}\n",
    "# now running for loop and assign two variable to store key and value even we will use .items() to extract key and value\n",
    "for key, value in dict1.items():\n",
    "    # now will print the result \n",
    "    print(\"Key:\",key, \"and\", \"Value:\", value)"
   ]
  },
  {
   "cell_type": "code",
   "execution_count": 34,
   "id": "d1703fca-4456-4eed-ba2b-23be7569650c",
   "metadata": {},
   "outputs": [
    {
     "name": "stdin",
     "output_type": "stream",
     "text": [
      "Enter First Number:  36\n",
      "Enter Second Number:  60\n"
     ]
    },
    {
     "name": "stdout",
     "output_type": "stream",
     "text": [
      "GCD of '36' and '60' is '12'\n"
     ]
    }
   ],
   "source": [
    "# 16. Write a Python program to find the GCD (Greatest Common Divisor) of two numbers using a for loop.\n",
    "num1 = int(input(\"Enter First Number: \"))\n",
    "num2 = int(input(\"Enter Second Number: \"))\n",
    "# find small number \n",
    "if num1 < num2:\n",
    "    smaller_num = num1\n",
    "else:\n",
    "    smaller_num = num2\n",
    "# find gcd using for loop\n",
    "for i in range(smaller_num, 0, -1):\n",
    "    if num1 % i == 0 and num2 % i == 0:\n",
    "        gcd = i\n",
    "        break\n",
    "print(f\"GCD of '{num1}' and '{num2}' is '{gcd}'\")"
   ]
  },
  {
   "cell_type": "code",
   "execution_count": 42,
   "id": "36fbe5ec-a5fc-486d-a263-b6c9826b9802",
   "metadata": {},
   "outputs": [
    {
     "name": "stdin",
     "output_type": "stream",
     "text": [
      "Enter String to check Palindrome:  dad\n"
     ]
    },
    {
     "name": "stdout",
     "output_type": "stream",
     "text": [
      "yes! 'dad' is palindrome\n"
     ]
    }
   ],
   "source": [
    "# 17. Create a Python program that checks if a string is a palindrome using a for loop.\n",
    "your_string = input(\"Enter String to check Palindrome: \")\n",
    "# intialize palindrome \n",
    "is_palindrome = True\n",
    "for pl in range(len(your_string)//2):\n",
    "    if your_string[pl] != your_string[-pl-1]:\n",
    "        is_palindrome = False\n",
    "        break\n",
    "\n",
    "if is_palindrome:\n",
    "    print(f\"yes! '{your_string}' is palindrome\")\n",
    "else:\n",
    "    print(f\"No!, '{your_string}' is not palindrome\")"
   ]
  },
  {
   "cell_type": "code",
   "execution_count": 43,
   "id": "b45c480d-402b-4651-b2e5-7e1b8837afc4",
   "metadata": {},
   "outputs": [
    {
     "name": "stdout",
     "output_type": "stream",
     "text": [
      "Duplicates Are Removed:  [2, 44, 55, 6, 7, 8, 9]\n"
     ]
    }
   ],
   "source": [
    "# 18 Write a Python program to remove duplicates from a list using a for loop.\n",
    "my_list = [2,44,55,55,6,7,8,9]\n",
    "# intialize unique list \n",
    "unique_list = []\n",
    "# iterate through my_list \n",
    "for new in my_list:\n",
    "    if new not in unique_list:\n",
    "        unique_list.append(new)\n",
    "\n",
    "# print result \n",
    "print(\"Duplicates Are Removed: \",unique_list)"
   ]
  },
  {
   "cell_type": "code",
   "execution_count": 44,
   "id": "27501063-6b4c-4b51-b1c5-4e238757ded3",
   "metadata": {},
   "outputs": [
    {
     "name": "stdin",
     "output_type": "stream",
     "text": [
      "Enter Sentence:  hello how\n"
     ]
    },
    {
     "name": "stdout",
     "output_type": "stream",
     "text": [
      "'2' word count in the sentence '['hello', 'how']'\n"
     ]
    }
   ],
   "source": [
    "# 19. Create a Python program that counts the number of words in a sentence using a for loop.\n",
    "sentence = input(\"Enter Sentence: \").split()\n",
    "# intialize w_count \n",
    "w_count = 0\n",
    "# iterate through the sentence\n",
    "for word in sentence:\n",
    "    w_count += 1\n",
    "\n",
    "# print result \n",
    "print(f\"'{w_count}' word count in the sentence '{sentence}'\")"
   ]
  },
  {
   "cell_type": "code",
   "execution_count": 47,
   "id": "4c036e26-973c-4daf-925e-bdbff9ef2079",
   "metadata": {},
   "outputs": [
    {
     "name": "stdout",
     "output_type": "stream",
     "text": [
      "'625' count of odd within 1 to 50\n"
     ]
    }
   ],
   "source": [
    "# 20. Write a Python program to find the sum of all odd numbers from 1 to 50 using a for loop.\n",
    "# iterate using loop range 1 to 51 to get 1 to 50\n",
    "# intialize sum of \n",
    "sum_of_odd = 0\n",
    "for i in range(1,51):\n",
    "    if i % 2 != 0:\n",
    "        sum_of_odd +=i\n",
    "\n",
    "# print result \n",
    "print(f\"'{sum_of_odd}' count of odd within 1 to 50\")"
   ]
  },
  {
   "cell_type": "code",
   "execution_count": 55,
   "id": "6847af49-8518-49aa-8ae7-697f411f7ca0",
   "metadata": {},
   "outputs": [
    {
     "name": "stdin",
     "output_type": "stream",
     "text": [
      "Enter Year to find is it leap or not:  2024\n"
     ]
    },
    {
     "name": "stdout",
     "output_type": "stream",
     "text": [
      "2024 is leap year.\n"
     ]
    }
   ],
   "source": [
    "# 21. Write a Python program that checks if a given year is a leap year using a for loop.\n",
    "year = int(input(\"Enter Year to find is it leap or not: \"))\n",
    "# initialize is_leap_year False\n",
    "is_leap_year = False\n",
    "# iterate through year \n",
    "for i in range(4, year + 1, 4):\n",
    "    if i == year:\n",
    "        is_leap_year = True\n",
    "    elif i > year:\n",
    "        break\n",
    "\n",
    "# Print the result\n",
    "if is_leap_year:\n",
    "    print(f\"{year} is leap year.\")\n",
    "else:\n",
    "    print(f\"{year} is not leap year.\")\n"
   ]
  },
  {
   "cell_type": "code",
   "execution_count": 75,
   "id": "7533177f-85db-4da8-984b-add7ff6e8e67",
   "metadata": {},
   "outputs": [
    {
     "name": "stdin",
     "output_type": "stream",
     "text": [
      "Enter Number to find Square root:  49\n"
     ]
    },
    {
     "name": "stdout",
     "output_type": "stream",
     "text": [
      "Square root of '49' is '7.0'\n"
     ]
    }
   ],
   "source": [
    "# 22. Create a Python program that calculates the square root of a number using a for loop.\n",
    "number = int(input(\"Enter Number to find Square root: \"))\n",
    "# iterate through for loop and find square\n",
    "for _ in range(1):\n",
    "    print(f\"Square root of '{number}' is '{number**0.5}'\")"
   ]
  },
  {
   "cell_type": "code",
   "execution_count": 2,
   "id": "0d5dc61c-6248-473c-8fa8-d7a148859734",
   "metadata": {},
   "outputs": [
    {
     "name": "stdin",
     "output_type": "stream",
     "text": [
      "Enter First Number:  10\n",
      "Enter Second Number:  20\n"
     ]
    },
    {
     "name": "stdout",
     "output_type": "stream",
     "text": [
      "LCM of '10' and '20' is '20'\n"
     ]
    }
   ],
   "source": [
    "# 23. Write a Python program to find the LCM (Least Common Multiple) of two numbers using a for loop\n",
    "num1 = int(input(\"Enter First Number: \"))\n",
    "num2 = int(input(\"Enter Second Number: \"))\n",
    "# find lcm through loop\n",
    "for i in range(1, num1*num2 +1):\n",
    "    if i % num1 == 0 and i % num2 == 0:\n",
    "        lcm = i\n",
    "        break\n",
    "\n",
    "print(f\"LCM of '{num1}' and '{num2}' is '{lcm}'\")"
   ]
  },
  {
   "cell_type": "code",
   "execution_count": null,
   "id": "8a70ee44-fec6-45c2-8a0c-ba61f71e9304",
   "metadata": {},
   "outputs": [],
   "source": [
    "# If else :"
   ]
  },
  {
   "cell_type": "code",
   "execution_count": 5,
   "id": "b2811bb3-c88b-41ea-8b04-552acc36795c",
   "metadata": {},
   "outputs": [
    {
     "name": "stdin",
     "output_type": "stream",
     "text": [
      "Enter Number:  0\n"
     ]
    },
    {
     "name": "stdout",
     "output_type": "stream",
     "text": [
      "0 is Zero\n"
     ]
    }
   ],
   "source": [
    "# 1. Write a Python program to check if a number is positive, negative, or zero using an if-else statement.\n",
    "num = int(input(\"Enter Number: \"))\n",
    "if num == 0:\n",
    "    print(num, \"is Zero\")\n",
    "elif num > 0:\n",
    "    print(\"Number is positive\")\n",
    "elif num < 0:\n",
    "    print(\"Number is negative\")\n",
    "else:\n",
    "    print(\"You entered inavlid number\")"
   ]
  },
  {
   "cell_type": "code",
   "execution_count": 7,
   "id": "c3b6b04d-086e-432e-9e77-480c4c26ca2f",
   "metadata": {},
   "outputs": [
    {
     "name": "stdin",
     "output_type": "stream",
     "text": [
      "Enter Number to check even or odd:  9\n"
     ]
    },
    {
     "name": "stdout",
     "output_type": "stream",
     "text": [
      "number is odd\n"
     ]
    }
   ],
   "source": [
    "# 2. Create a Python program that checks if a given number is even or odd using an if-else statement.\n",
    "number = int(input(\"Enter Number to check even or odd: \"))\n",
    "\n",
    "if number % 2 == 0:\n",
    "    print(\"Number is even number\")\n",
    "elif number % 2 !=0:\n",
    "    print(\"number is odd\")\n",
    "else:\n",
    "    print(\"you entred inavlid character\")"
   ]
  },
  {
   "cell_type": "code",
   "execution_count": 29,
   "id": "91082e65-523d-418b-8bbe-ebe057997cbc",
   "metadata": {},
   "outputs": [
    {
     "name": "stdin",
     "output_type": "stream",
     "text": [
      "Enter Anything:  10\n"
     ]
    },
    {
     "name": "stdout",
     "output_type": "stream",
     "text": [
      "Your number is positive\n"
     ]
    }
   ],
   "source": [
    "# 3. How can you use nested if-else statements in Python, and provide an example?\n",
    "# to use nested if-else we need to write a program like below\n",
    "n = input(\"Enter Anything: \")\n",
    "\n",
    "if n.isnumeric():\n",
    "    n1 = int(n)\n",
    "    if n1 == 0:\n",
    "        print(\"Your number is zero\")\n",
    "    else:\n",
    "        print(\"Your number is positive\")\n",
    "        \n",
    "elif n.isalpha():\n",
    "    print(\"Your input is alphabetical\")\n",
    "else:\n",
    "    print(\"Your value is neither numeric nor alphabetical\")\n"
   ]
  },
  {
   "cell_type": "code",
   "execution_count": 35,
   "id": "c2e1dd7f-8dbd-4b69-b5db-4863bd0cdaa5",
   "metadata": {},
   "outputs": [
    {
     "name": "stdin",
     "output_type": "stream",
     "text": [
      "Enter First Number:  50\n",
      "Enter Second Number:  40\n",
      "Eter Third Number:  20\n"
     ]
    },
    {
     "name": "stdout",
     "output_type": "stream",
     "text": [
      "50.0 is greater number\n"
     ]
    }
   ],
   "source": [
    "# 4. Write a Python program to determine the largest of three numbers using if-else.\n",
    "first = float(input(\"Enter First Number: \"))\n",
    "second = float(input(\"Enter Second Number: \"))\n",
    "third = float(input(\"Eter Third Number: \"))\n",
    "\n",
    "# checking which one is largest \n",
    "if first >= second >= third:\n",
    "    print(first,\"is greater number\")\n",
    "elif second >= first >= third:\n",
    "    print(second,\"second number is greater\")\n",
    "else:\n",
    "    print(third, \"third number is greater\")"
   ]
  },
  {
   "cell_type": "code",
   "execution_count": 40,
   "id": "6e071202-eeb2-4fcb-9dcc-da3cde72acc0",
   "metadata": {},
   "outputs": [
    {
     "name": "stdin",
     "output_type": "stream",
     "text": [
      "Enter any number:  -5\n"
     ]
    },
    {
     "name": "stdout",
     "output_type": "stream",
     "text": [
      "-5 of absolute value 5\n"
     ]
    }
   ],
   "source": [
    "# 5. Write a Python program that calculates the absolute value of a number using if-else.\n",
    "number = int(input(\"Enter any number: \"))\n",
    "\n",
    "if number < 0:\n",
    "    num = abs(number)\n",
    "else:\n",
    "    num = number\n",
    "print(number, \"of absolute value\", num)"
   ]
  },
  {
   "cell_type": "code",
   "execution_count": 42,
   "id": "b36f6086-8c88-4a7f-93d9-f95ad41351ae",
   "metadata": {},
   "outputs": [
    {
     "name": "stdin",
     "output_type": "stream",
     "text": [
      "Enter Any String:  b\n"
     ]
    },
    {
     "name": "stdout",
     "output_type": "stream",
     "text": [
      "no, 'b' is not contained vowel\n"
     ]
    }
   ],
   "source": [
    "# 6. Create a Python program that checks if a given character is a vowel or consonant using if-else.\n",
    "character = input(\"Enter Any String: \").lower()\n",
    "if character in \"aeiou\":\n",
    "    is_vowel = True\n",
    "else:\n",
    "    is_vowel = False\n",
    "if is_vowel:\n",
    "    print(f\"yes, '{character}' is contained vowel\")\n",
    "else:\n",
    "    print(f\"no, '{character}' is not contained vowel\")"
   ]
  },
  {
   "cell_type": "code",
   "execution_count": 45,
   "id": "ac845c48-71bc-43f4-b410-572e4107fe9a",
   "metadata": {},
   "outputs": [
    {
     "name": "stdin",
     "output_type": "stream",
     "text": [
      "Enter Your Age:  20\n"
     ]
    },
    {
     "name": "stdout",
     "output_type": "stream",
     "text": [
      "You're eligible to vote\n"
     ]
    }
   ],
   "source": [
    "# 7. Write a Python program to determine if a user is eligible to vote based on their age using if-else.\n",
    "age = float(input(\"Enter Your Age: \"))\n",
    "if age >= 18:\n",
    "    print(\"You're eligible to vote\")\n",
    "else:\n",
    "    print(\"Your are not eligible to vote\")"
   ]
  },
  {
   "cell_type": "code",
   "execution_count": 48,
   "id": "5fba7e54-3aca-4987-8fcb-f79eb798858b",
   "metadata": {},
   "outputs": [
    {
     "name": "stdin",
     "output_type": "stream",
     "text": [
      "Enter How much you spent:  500\n"
     ]
    },
    {
     "name": "stdout",
     "output_type": "stream",
     "text": [
      "Congrutulation you have '50.0' of disocnt because you spent more than ₹500 or ₹500\n"
     ]
    }
   ],
   "source": [
    "# 8. Create a Python program that calculates the discount amount based on the purchase amount using if-else.\n",
    "purchased_amount = float(input(\"Enter How much you spent: \"))\n",
    "\n",
    "if purchased_amount >=500:\n",
    "    discount = (10 * purchased_amount) / 100\n",
    "    print(f\"Congrutulation you have '{discount}' of disocnt because you spent more than ₹500 or ₹500\")\n",
    "else:\n",
    "    print(f\"Please Buy ₹500 or above ₹500 to get 10% discount\")"
   ]
  },
  {
   "cell_type": "code",
   "execution_count": 53,
   "id": "99b8b48d-09db-4647-807b-7abe3138cb1e",
   "metadata": {},
   "outputs": [
    {
     "name": "stdin",
     "output_type": "stream",
     "text": [
      "Enter Your Number:  50\n"
     ]
    },
    {
     "name": "stdout",
     "output_type": "stream",
     "text": [
      "Your Number Within a range your number '50' within '10' to '100'\n"
     ]
    }
   ],
   "source": [
    "# 9. Write a Python program to check if a number is within a specified range using if-else.\n",
    "min_range = 10\n",
    "max_range = 100\n",
    "num = int(input(\"Enter Your Number: \"))\n",
    "\n",
    "if num >= min_range and num <= max_range:\n",
    "    print(f\"Your Number Within a range your number '{num}' within '{min_range}' to '{max_range}'\")\n",
    "else:\n",
    "    print(f\"your number not within the range please enter number within '{min_range}' to '{max_range}'\")"
   ]
  },
  {
   "cell_type": "code",
   "execution_count": 59,
   "id": "01fbc237-6e4e-4060-8f1c-eddc267828e3",
   "metadata": {},
   "outputs": [
    {
     "name": "stdin",
     "output_type": "stream",
     "text": [
      "Enter Your Score to calculate grade:  100\n"
     ]
    },
    {
     "name": "stdout",
     "output_type": "stream",
     "text": [
      "YOur Grade is  A\n"
     ]
    }
   ],
   "source": [
    "# 10. Create a Python program that determines the grade of a student based on their score using if-else.\n",
    "your_score = float(input(\"Enter Your Score to calculate grade: \"))\n",
    "if your_score >= 90 and your_score <=100:\n",
    "    grade = \"A\"\n",
    "elif your_score >= 70 and your_score <= 89:\n",
    "    grade = \"B\"\n",
    "elif your_score >= 50 and your_score <=69:\n",
    "    grade = \"C\"\n",
    "else:\n",
    "    grade = \"F\"\n",
    "\n",
    "print(\"YOur Grade is \", grade)"
   ]
  },
  {
   "cell_type": "code",
   "execution_count": 63,
   "id": "11e8fc96-2339-4cce-a443-b5a81bdcea9b",
   "metadata": {},
   "outputs": [
    {
     "name": "stdin",
     "output_type": "stream",
     "text": [
      "Enter String:  your name\n"
     ]
    },
    {
     "name": "stdout",
     "output_type": "stream",
     "text": [
      "String is not empty\n"
     ]
    }
   ],
   "source": [
    "# 11. Write a Python program to check if a string is empty or not using if-else.\n",
    "string = input(\"Enter String: \")\n",
    "if not string:\n",
    "    print(\"String is empty\")\n",
    "else:\n",
    "    print(\"String is not empty\")"
   ]
  },
  {
   "cell_type": "code",
   "execution_count": 66,
   "id": "65b41043-cc82-455a-8d58-af9ba67b12b6",
   "metadata": {},
   "outputs": [
    {
     "name": "stdin",
     "output_type": "stream",
     "text": [
      "enter side A length:  2\n",
      "Enter Side B length:  10\n",
      "Enter Side C length:  10\n"
     ]
    },
    {
     "name": "stdout",
     "output_type": "stream",
     "text": [
      "Triangle is isosceles\n"
     ]
    }
   ],
   "source": [
    "# 12. Create a Python program that identifies the type of a triangle (e.g., equilateral, isosceles, or scalene) based on input values using if-else.\n",
    "side_a = int(input(\"enter side A length: \"))\n",
    "side_b = int(input(\"Enter Side B length: \"))\n",
    "side_c = int(input(\"Enter Side C length: \"))\n",
    "\n",
    "if side_a == side_b == side_a:\n",
    "    print(\"Triangle is Equilateral\")\n",
    "elif side_a == side_b or side_b == side_c or side_c == side_a:\n",
    "    print(\"Triangle is isosceles\")\n",
    "else:\n",
    "    print(\"Triangle is scalene\")"
   ]
  },
  {
   "cell_type": "code",
   "execution_count": 74,
   "id": "6d5b8864-09b6-459d-a55e-b72fa7df9e39",
   "metadata": {},
   "outputs": [
    {
     "name": "stdin",
     "output_type": "stream",
     "text": [
      "Enter week of day (1 -7): 5\n"
     ]
    },
    {
     "name": "stdout",
     "output_type": "stream",
     "text": [
      "5 means Friday\n"
     ]
    }
   ],
   "source": [
    "# 13. Write a Python program to determine the day of the week based on a user-provided number using if-else.\n",
    "day = int(input(\"Enter week of day (1 -7):\"))\n",
    "if day >=1 and day <=7:\n",
    "    if day == 1:\n",
    "        days = \"Monday\"\n",
    "    elif day == 2:\n",
    "        days = \"Tuesday\"\n",
    "    elif day == 3:\n",
    "        days = \"Wednesday\"\n",
    "    elif day == 4:\n",
    "        days = \"Thursday\"\n",
    "    elif day == 5:\n",
    "        days = \"Friday\"\n",
    "    elif day == 6:\n",
    "        days = \"Saturday\"\n",
    "    elif day == 7:\n",
    "        days = \"Sunday\"\n",
    "    print(day, \"means\", days)\n",
    "else:\n",
    "    print(\"Please Enter Within 1 to 7\")"
   ]
  },
  {
   "cell_type": "code",
   "execution_count": 80,
   "id": "e765038e-d798-447d-a217-458a87d5b62e",
   "metadata": {},
   "outputs": [
    {
     "name": "stdin",
     "output_type": "stream",
     "text": [
      "Enter Year to check leap or not:  2023\n"
     ]
    },
    {
     "name": "stdout",
     "output_type": "stream",
     "text": [
      "2023 is not leap year\n"
     ]
    }
   ],
   "source": [
    "# 14. Create a Python program that checks if a given year is a leap year using both if-else and a function.\n",
    "def check_leap(year):\n",
    "    if (year % 4 == 0 and year % 100 !=0) or (year % 400 == 0):\n",
    "        return True\n",
    "    else:\n",
    "        return False\n",
    "year = int(input(\"Enter Year to check leap or not: \"))\n",
    "# run function \n",
    "if check_leap(year):\n",
    "    print(year,\"is leap year\")\n",
    "else:\n",
    "    print(year, \"is not leap year\")"
   ]
  },
  {
   "cell_type": "code",
   "execution_count": 88,
   "id": "230fcbfe-ccb1-4988-a72b-5e4e9a1c860f",
   "metadata": {},
   "outputs": [
    {
     "name": "stdin",
     "output_type": "stream",
     "text": [
      "Enter any number > 10:  10\n"
     ]
    }
   ],
   "source": [
    "# 15. How do you use the \"assert\" statement in Python to add debugging checks within if-else blocks?\n",
    "num = int(input(\"Enter any number > 10: \"))\n",
    "\n",
    "if str(num).isdigit():\n",
    "    assert num >= 10, \"Error: Number should be greater than or equal to 10\"\n",
    "else:\n",
    "    print(\"Please enter a valid number.\")\n"
   ]
  },
  {
   "cell_type": "code",
   "execution_count": 90,
   "id": "c02c0b7e-951c-4b21-b174-c43d18709340",
   "metadata": {},
   "outputs": [
    {
     "name": "stdin",
     "output_type": "stream",
     "text": [
      "Enter your age:  60\n"
     ]
    },
    {
     "name": "stdout",
     "output_type": "stream",
     "text": [
      "Wow!, you're senior citizen and you are eligible for 30% of discount\n"
     ]
    }
   ],
   "source": [
    "# 16. Create a Python program that determines the eligibility of a person for a senior citizen discount based on age using if-else.\n",
    "your_age = float(input(\"Enter your age: \"))\n",
    "if your_age >= 60:\n",
    "    print(\"Wow!, you're senior citizen and you are eligible for 30% of discount\")\n",
    "else:\n",
    "    print(\"You're not senior citizen so you have only 10% discount right now\")"
   ]
  },
  {
   "cell_type": "code",
   "execution_count": 96,
   "id": "ce76c740-8e79-40da-932e-8e22acad2720",
   "metadata": {},
   "outputs": [
    {
     "name": "stdin",
     "output_type": "stream",
     "text": [
      "Enter any character:  D\n"
     ]
    },
    {
     "name": "stdout",
     "output_type": "stream",
     "text": [
      "The character 'D' is uppercase.\n"
     ]
    }
   ],
   "source": [
    "# 17. Write a Python program to categorize a given character as uppercase, lowercase, or neither using if-else.\n",
    "character = input(\"Enter any character: \")\n",
    "\n",
    "if character.isalpha():\n",
    "    # Check if the character is uppercase\n",
    "    if character.isupper():\n",
    "        print(f\"The character '{character}' is uppercase.\")\n",
    "    # Check if the character is lowercase\n",
    "    elif character.islower():\n",
    "        print(f\"The character '{character}' is lowercase.\")\n",
    "else:\n",
    "    print(f\"The entered character '{character}' is neither uppercase nor lowercase.\")"
   ]
  },
  {
   "cell_type": "code",
   "execution_count": 2,
   "id": "991b0152-b83d-4add-8970-c5cd4308236f",
   "metadata": {},
   "outputs": [
    {
     "name": "stdin",
     "output_type": "stream",
     "text": [
      "Enter the coefficient of x^2 (a):  4\n",
      "Enter the coefficient of x (b):  2\n",
      "Enter the constant term (c):  6\n"
     ]
    },
    {
     "name": "stdout",
     "output_type": "stream",
     "text": [
      "The roots are complex:\n",
      "Root 1 = (-0.25+1.1989578808281798j)\n",
      "Root 2 = (-0.25-1.1989578808281798j)\n"
     ]
    }
   ],
   "source": [
    "# 18. Write a Python program to determine the roots of a quadratic equation using if-else.\n",
    "import cmath\n",
    "\n",
    "# Python program to determine the roots of a quadratic equation using if-else.\n",
    "a = float(input(\"Enter the coefficient of x^2 (a): \"))\n",
    "b = float(input(\"Enter the coefficient of x (b): \"))\n",
    "c = float(input(\"Enter the constant term (c): \"))\n",
    "\n",
    "# Calculate the discriminant\n",
    "discriminant = b**2 - 4*a*c\n",
    "\n",
    "# Check the nature of roots using if-else\n",
    "if discriminant > 0:\n",
    "    root1 = (-b + cmath.sqrt(discriminant)) / (2*a)\n",
    "    root2 = (-b - cmath.sqrt(discriminant)) / (2*a)\n",
    "    print(f\"The roots are real and distinct:\\nRoot 1 = {root1}\\nRoot 2 = {root2}\")\n",
    "elif discriminant == 0:\n",
    "    root = -b / (2*a)\n",
    "    print(f\"The roots are real and equal:\\nRoot = {root}\")\n",
    "else:\n",
    "    real_part = -b / (2*a)\n",
    "    imaginary_part = cmath.sqrt(abs(discriminant)) / (2*a)\n",
    "    root1 = complex(real_part, imaginary_part)\n",
    "    root2 = complex(real_part, -imaginary_part)\n",
    "    print(f\"The roots are complex:\\nRoot 1 = {root1}\\nRoot 2 = {root2}\")\n"
   ]
  },
  {
   "cell_type": "code",
   "execution_count": 4,
   "id": "3f02de4d-908a-469a-8246-1b420af8f492",
   "metadata": {},
   "outputs": [
    {
     "name": "stdin",
     "output_type": "stream",
     "text": [
      "Enter THe Year:  2000\n"
     ]
    },
    {
     "name": "stdout",
     "output_type": "stream",
     "text": [
      "2000 is century year\n"
     ]
    }
   ],
   "source": [
    "# 19. Create a Python program that checks if a given year is a century year or not using if-else.\n",
    "year = int(input(\"Enter THe Year: \"))\n",
    "\n",
    "if year % 100 == 0:\n",
    "    print(year, \"is century year\")\n",
    "else:\n",
    "    print(year, \"is not century year\")"
   ]
  },
  {
   "cell_type": "code",
   "execution_count": 11,
   "id": "49c5e0d9-e0d4-4d60-94d8-d1daab44bd28",
   "metadata": {},
   "outputs": [
    {
     "name": "stdin",
     "output_type": "stream",
     "text": [
      "Enter Number to find Perfect Square is or not:  16\n"
     ]
    },
    {
     "name": "stdout",
     "output_type": "stream",
     "text": [
      "16 is perfect square\n"
     ]
    }
   ],
   "source": [
    "# 20. Write a Python program to determine if a given number is a perfect square using if-else.\n",
    "p_s = int(input(\"Enter Number to find Perfect Square is or not: \"))\n",
    "if p_s > 0:\n",
    "    is_ps = False\n",
    "    for i in range(p_s):\n",
    "        if i*i == p_s:\n",
    "            is_ps = True\n",
    "else:\n",
    "    print(\"Enter Bigger Number More than 0\")\n",
    "if is_ps:\n",
    "    print(p_s,\"is perfect square\")\n",
    "else:\n",
    "    print(p_s,\"is not perfect square\")"
   ]
  },
  {
   "cell_type": "code",
   "execution_count": 30,
   "id": "fd094865-e4a0-44e5-af8a-73d4f50636a2",
   "metadata": {},
   "outputs": [
    {
     "name": "stdout",
     "output_type": "stream",
     "text": [
      "continue Example\n",
      "1, 2, 3, 4, 6, 7, 8, 9, \n",
      "break Example\n",
      "1, 2, 3, 4, "
     ]
    }
   ],
   "source": [
    "# 21. Explain the purpose of the \"continue\" and \"break\" statements within if-else loops.\n",
    "# continue is skip iterate but rest iterating still working - check below example\n",
    "print(\"continue Example\")\n",
    "for c in range(1,10):\n",
    "    if c == 5:\n",
    "        continue\n",
    "    print(c, end=\", \") #in result you can see there is no '5'\n",
    "    \n",
    "# break is just end the looping \n",
    "\n",
    "print(\"\\nbreak Example\")\n",
    "for b in range(1,10):\n",
    "    if b == 5:\n",
    "        break\n",
    "    print(b, end=\", \") #it will be stop printing after 5"
   ]
  },
  {
   "cell_type": "code",
   "execution_count": 33,
   "id": "a4bcf76b-abda-4164-b546-a4b21393f030",
   "metadata": {},
   "outputs": [
    {
     "name": "stdin",
     "output_type": "stream",
     "text": [
      "Enter your weight in kg:  65\n",
      "Enter Your Height in Meter:  1.74\n"
     ]
    },
    {
     "name": "stdout",
     "output_type": "stream",
     "text": [
      "BMI: 21.469150482230148\n",
      "Category: Normal weight\n"
     ]
    }
   ],
   "source": [
    "# 22. Create a Python program that calculates the BMI (Body Mass Index) of a person based on their weight and height using if-else.\n",
    "weight = float(input(\"Enter your weight in kg: \"))\n",
    "height = float(input(\"Enter Your Height in Meter: \"))\n",
    "\n",
    "bmi = weight / (height**2)\n",
    "\n",
    "if bmi < 18.5:\n",
    "    category = \"Underweight\"\n",
    "elif 18.5 <= bmi < 25:\n",
    "    category = \"Normal weight\"\n",
    "elif 25 <= bmi < 30:\n",
    "    category = \"Overweight\"\n",
    "else:\n",
    "    category = \"Obese\"\n",
    "\n",
    "print(\"BMI:\", bmi)\n",
    "print(\"Category:\", category)"
   ]
  },
  {
   "cell_type": "code",
   "execution_count": 35,
   "id": "c77ac780-90db-4482-85d4-a15579d7a544",
   "metadata": {},
   "outputs": [
    {
     "name": "stdout",
     "output_type": "stream",
     "text": [
      "With Using Filter:  [2, 4, 88, 4]\n"
     ]
    }
   ],
   "source": [
    "# 23. How can you use the \"filter()\" function with if-else statements to filter elements from a list?\n",
    "def is_even(num):\n",
    "    return num % 2 == 0\n",
    "\n",
    "numbers = [2,3,4,5,7,88,4]\n",
    "result = list(filter(is_even, numbers))\n",
    "# print result \n",
    "print(\"With Using Filter: \",result)"
   ]
  },
  {
   "cell_type": "code",
   "execution_count": 44,
   "id": "1fbaf34c-1222-4c5f-9dac-a640223d1401",
   "metadata": {},
   "outputs": [
    {
     "name": "stdin",
     "output_type": "stream",
     "text": [
      "Enter THe Number:  5\n"
     ]
    },
    {
     "name": "stdout",
     "output_type": "stream",
     "text": [
      "5 is a prime number.\n"
     ]
    }
   ],
   "source": [
    "# 24. Write a Python program to determine if a given number is prime or not using if-else.\n",
    "num = int(input(\"Enter THe Number: \"))\n",
    "if num > 0:\n",
    "    for i in range(2,  int(num**0.5) + 1):\n",
    "        if num % i == 0:\n",
    "            print(f\"{num} is not a prime number.\")\n",
    "            break\n",
    "    else:\n",
    "        print(f\"{num} is a prime number.\")\n",
    "else:\n",
    "    print(\"Please enter valid number\")"
   ]
  },
  {
   "cell_type": "code",
   "execution_count": null,
   "id": "47a03303-e346-4676-92d9-5f5500dff33a",
   "metadata": {},
   "outputs": [],
   "source": [
    "# Map :-"
   ]
  },
  {
   "cell_type": "code",
   "execution_count": 49,
   "id": "22070f89-eabc-4dff-8810-e1110da165d9",
   "metadata": {},
   "outputs": [
    {
     "name": "stdout",
     "output_type": "stream",
     "text": [
      "Adding +2 in each Number [4, 6, 8, 9, 10]\n"
     ]
    }
   ],
   "source": [
    "# 1. Explain the purpose of the `map()` function in Python and provide an example of how it can be used to apply a function to each element of an iterable.\n",
    "# The map() function in Python is a built-in function that is used to apply a specified function to all the items in an iterable (e.g., a list, tuple, or string) and return an iterator that produces the results. The map() function takes two arguments: the function to apply and the iterable.\n",
    "def suum_of(x):\n",
    "    return x+2\n",
    "\n",
    "numbers = [2,4,6,7,8]\n",
    "# using map\n",
    "adding_result = list(map(suum_of, numbers))\n",
    "# print result \n",
    "print(\"Adding +2 in each Number\", adding_result)"
   ]
  },
  {
   "cell_type": "code",
   "execution_count": 50,
   "id": "e3d67bc6-09a4-4450-88e6-ab332cd66212",
   "metadata": {},
   "outputs": [
    {
     "name": "stdout",
     "output_type": "stream",
     "text": [
      "Square of List:  [4, 16, 36, 49, 64]\n"
     ]
    }
   ],
   "source": [
    "# 2. Write a Python program that uses the `map()` function to square each element of a list of numbers.\n",
    "def sq_of(s):\n",
    "    return s**2\n",
    "\n",
    "numbers = [2,4,6,7,8]\n",
    "# use map()\n",
    "sq_result = list(map(sq_of, numbers))\n",
    "# print result \n",
    "print(\"Square of List: \", sq_result)"
   ]
  },
  {
   "cell_type": "code",
   "execution_count": 53,
   "id": "0151658d-132d-4caf-bc10-512c83a01a25",
   "metadata": {},
   "outputs": [
    {
     "name": "stdout",
     "output_type": "stream",
     "text": [
      "List Comprehension For Square Number:  [4, 16, 25, 36, 81]\n",
      "Using Map with function: [4, 16, 25, 36, 81]\n"
     ]
    }
   ],
   "source": [
    "# 3. How does the `map()` function differ from a list comprehension in Python, and when would you choose one over the other?\n",
    "# Both map() and list comprehensions in Python are used for similar purposes, but they have some differences in terms of syntax and use cases.\n",
    "# Readability: List comprehensions are often considered more readable and concise, especially for simple transformations or filtering tasks.\n",
    "# or more complex operations or when applying a function with multiple arguments, map() can be more suitable.\n",
    "# initilize number \n",
    "numbers = [2,4,5,6,9]\n",
    "# using map with list comprehension\n",
    "square_num = [x**2 for x in numbers]\n",
    "print(\"List Comprehension For Square Number: \", square_num)\n",
    "# using map \n",
    "def sq_nums(sq):\n",
    "    return sq**2\n",
    "squre_map = list(map(sq_nums, numbers))\n",
    "print(\"Using Map with function:\", squre_map)"
   ]
  },
  {
   "cell_type": "code",
   "execution_count": 54,
   "id": "ed88cba2-a561-4cda-98f6-b4c188ce8031",
   "metadata": {},
   "outputs": [
    {
     "name": "stdout",
     "output_type": "stream",
     "text": [
      "Original List Names:  ['vinay', 'punika', 'aadit', 'srisha']\n",
      "Upper case using map() List Names:  ['VINAY', 'PUNIKA', 'AADIT', 'SRISHA']\n"
     ]
    }
   ],
   "source": [
    "# 4. Create a Python program that uses the `map()` function to convert a list of names to uppercase.\n",
    "string_name = [\"vinay\", \"punika\", \"aadit\", \"srisha\"]\n",
    "# converting to upper case using map()\n",
    "def uppercs(up):\n",
    "    return up.upper()\n",
    "\n",
    "# use map()\n",
    "upper_map = list(map(uppercs, string_name))\n",
    "print(\"Original List Names: \", string_name)\n",
    "print(\"Upper case using map() List Names: \", upper_map)"
   ]
  },
  {
   "cell_type": "code",
   "execution_count": 55,
   "id": "5115a568-b9d3-4a5a-a1bf-b6092573a650",
   "metadata": {},
   "outputs": [
    {
     "name": "stdout",
     "output_type": "stream",
     "text": [
      "Length of following word [5, 6, 5, 6] of:  ['vinay', 'punika', 'aadit', 'srisha']\n"
     ]
    }
   ],
   "source": [
    "# 5. Write a Python program that uses the `map()` function to calculate the length of each word in a list of strings.\n",
    "def lenwd(l):\n",
    "    return len(l)\n",
    "\n",
    "string_name = [\"vinay\", \"punika\", \"aadit\", \"srisha\"]\n",
    "# using map()\n",
    "len_map = list(map(lenwd, string_name))\n",
    "# print result \n",
    "print(\"Length of following word\", len_map, \"of: \", string_name)"
   ]
  },
  {
   "cell_type": "code",
   "execution_count": 59,
   "id": "5c5d4485-8db6-40eb-92ca-48b879d1cec0",
   "metadata": {},
   "outputs": [
    {
     "name": "stdout",
     "output_type": "stream",
     "text": [
      "List1:  [1, 2, 4, 5, 6, 74, 32]\n",
      "List2:  [2, 4, 4, 5, 6, 7, 76, 1]\n",
      "List1:  [3, 6, 8, 10, 12, 81, 108]\n"
     ]
    }
   ],
   "source": [
    "# 6. How can you use the `map()` function to apply a custom function to elements of multiple lists simultaneously in Python?\n",
    "list1 = [1,2,4,5,6,74,32]\n",
    "list2 = [2,4,4,5,6,7,76,1]\n",
    "# using function \n",
    "def add_el(x, y):\n",
    "    return x + y\n",
    "\n",
    "result_map = list(map(add_el, list1, list2))\n",
    "# print results \n",
    "print(\"List1: \", list1)\n",
    "print(\"List2: \", list2)\n",
    "print(\"List1: \", result_map)"
   ]
  },
  {
   "cell_type": "code",
   "execution_count": 61,
   "id": "8957bcb1-384c-40ec-a88e-af5e00b3e94a",
   "metadata": {},
   "outputs": [
    {
     "name": "stdout",
     "output_type": "stream",
     "text": [
      "Celsius: [32, 22, 16, 11, 10]\n",
      "Fahrenheit: [89.6, 71.6, 60.8, 51.8, 50.0]\n"
     ]
    }
   ],
   "source": [
    "# 7. Create a Python program that uses `map()` to convert a list of temperatures from Celsius to Fahrenheit.\n",
    "temprature_list = [32,22,16,11,10]\n",
    "def ce_fah(t):\n",
    "    return (t * 9/5) + 32\n",
    "\n",
    "# using map()\n",
    "fahrenheit = list(map(ce_fah, temprature_list))\n",
    "# print result \n",
    "print(\"Celsius:\", temprature_list)\n",
    "print(\"Fahrenheit:\", fahrenheit)"
   ]
  },
  {
   "cell_type": "code",
   "execution_count": 62,
   "id": "9657024c-030c-41b1-9579-4bc86b45c108",
   "metadata": {},
   "outputs": [
    {
     "name": "stdout",
     "output_type": "stream",
     "text": [
      "Orginal List: [11.32, 33.2, 11.03, 34.9, 11.9]\n",
      "Round List: [11, 33, 11, 35, 12]\n"
     ]
    }
   ],
   "source": [
    "# 8. Write a Python program that uses the `map()` function to round each element of a list of floating-point numbers to the nearest integer.\n",
    "fl_list = [11.32, 33.2, 11.03, 34.9, 11.9]\n",
    "# use map()\n",
    "list_map = list(map(round, fl_list))\n",
    "# print result \n",
    "print(\"Orginal List:\", fl_list)\n",
    "print(\"Round List:\", list_map)"
   ]
  },
  {
   "cell_type": "code",
   "execution_count": null,
   "id": "23b4ce06-1409-4372-9372-eca1e20968ca",
   "metadata": {},
   "outputs": [],
   "source": [
    "# Reduce :-"
   ]
  },
  {
   "cell_type": "code",
   "execution_count": 3,
   "id": "2da3f495-4448-484a-b074-ffaaf92282cb",
   "metadata": {},
   "outputs": [
    {
     "name": "stdout",
     "output_type": "stream",
     "text": [
      "Product of the numbers:  40409160\n"
     ]
    }
   ],
   "source": [
    "# 1. What is the `reduce()` function in Python, and what module should you import to use it? Provide an example of its basic usage.\n",
    "# The reduce() function is part of the functools module in Python. The reduce() function is used to successively apply a binary function (a function taking two arguments) to the items of an iterable, reducing the iterable to a single accumulated result.\n",
    "from functools import reduce\n",
    "def prdocut(x, y):\n",
    "    return x*y\n",
    "\n",
    "products_num = [33,55,23,44,22]\n",
    "# using reduce and example of uses\n",
    "red_fun = reduce(prdocut, products_num)\n",
    "# print result\n",
    "print(\"Product of the numbers: \",red_fun)"
   ]
  },
  {
   "cell_type": "code",
   "execution_count": 4,
   "id": "be065a27-1529-4082-8a33-c3bf00fce809",
   "metadata": {},
   "outputs": [
    {
     "name": "stdout",
     "output_type": "stream",
     "text": [
      "Found Products  120\n"
     ]
    }
   ],
   "source": [
    "# 2. Write a Python program that uses the `reduce()` function to find the product of all elements in a list.\n",
    "def mul(a,b):\n",
    "    return a*b\n",
    "\n",
    "numbers = [1,2,3,4,5]\n",
    "# using reduce to find product\n",
    "find_prod = reduce(mul, numbers)\n",
    "# print result\n",
    "print(\"Found Products \", find_prod)"
   ]
  },
  {
   "cell_type": "code",
   "execution_count": 7,
   "id": "b1cd5bf2-8919-403a-abb5-8bcb86156931",
   "metadata": {},
   "outputs": [
    {
     "name": "stdout",
     "output_type": "stream",
     "text": [
      "'55' is max in '[22, 2, 34, 55, 19]'\n"
     ]
    }
   ],
   "source": [
    "# 3. Create a Python program that uses `reduce()` to find the maximum element in a list of numbers.\n",
    "list1 = [22,2,34,55,19]\n",
    "# use reduce\n",
    "find_max = reduce(max, list1)\n",
    "# print result\n",
    "print(f\"'{find_max}' is max in '{list1}'\")"
   ]
  },
  {
   "cell_type": "code",
   "execution_count": 11,
   "id": "625d3820-65fc-400c-bdb8-ab001033956b",
   "metadata": {},
   "outputs": [
    {
     "name": "stdout",
     "output_type": "stream",
     "text": [
      "List Of String: ['hello', ' ', 'how', ' ', 'are', ' ', 'you'] Single String:  hello how are you\n"
     ]
    }
   ],
   "source": [
    "# 4. How can you use the `reduce()` function to concatenate a list of strings into a single string?\n",
    "mul_string = [\"hello\",\" \", \"how\", \" \", \"are\", \" \",\"you\"]\n",
    "def conc_fun(x, y):\n",
    "    return x + y\n",
    "\n",
    "# using reduce to concatenate into single string\n",
    "sing_string = reduce(conc_fun, mul_string)\n",
    "# print result\n",
    "print(\"List Of String:\", mul_string, \"Single String: \", sing_string)"
   ]
  },
  {
   "cell_type": "code",
   "execution_count": 15,
   "id": "4283be69-a238-417b-b403-d1b3f5a8fb7c",
   "metadata": {},
   "outputs": [
    {
     "name": "stdin",
     "output_type": "stream",
     "text": [
      "Enter Number to find Factorial:  5\n"
     ]
    },
    {
     "name": "stdout",
     "output_type": "stream",
     "text": [
      "Factorial of '5' is '120'\n"
     ]
    }
   ],
   "source": [
    "# 5. Write a Python program that calculates the factorial of a number using the `reduce()` function.\n",
    "def factorial_fun(n,i):\n",
    "        return n*i\n",
    "n = int(input(\"Enter Number to find Factorial: \"))\n",
    "fac_find = reduce(factorial_fun, range(1,n+1))\n",
    "# print result \n",
    "print(f\"Factorial of '{n}' is '{fac_find}'\")"
   ]
  },
  {
   "cell_type": "code",
   "execution_count": 17,
   "id": "1614c2b4-7a1d-4d85-8e91-4e36c52e6139",
   "metadata": {},
   "outputs": [
    {
     "name": "stdout",
     "output_type": "stream",
     "text": [
      "'2' is gcd of '[10, 12, 34]'\n"
     ]
    }
   ],
   "source": [
    "# 6. Create a Python program that uses `reduce()` to find the GCD (Greatest Common Divisor) of a list of numbers.\n",
    "def gcd_fun(x, y):\n",
    "    while y:\n",
    "        x, y = y, x % y\n",
    "    return x\n",
    "\n",
    "num = [10,12,34]\n",
    "# using reduce to find gcd\n",
    "gcd_found = reduce(gcd_fun, num)\n",
    "# print result \n",
    "print(f\"'{gcd_found}' is gcd of '{num}'\")"
   ]
  },
  {
   "cell_type": "code",
   "execution_count": 22,
   "id": "eaa5794b-8f05-4717-8f92-d1937e32bd8e",
   "metadata": {},
   "outputs": [
    {
     "name": "stdout",
     "output_type": "stream",
     "text": [
      "'20' is sum of '5555'\n"
     ]
    }
   ],
   "source": [
    "# 7. Write a Python program that uses the `reduce()` function to find the sum of the digits of a given number.\n",
    "def sum_of_num(x,y):\n",
    "    return int(x) + int(y)\n",
    "\n",
    "num = 5555\n",
    "num_list = list(str(num))\n",
    "# using reduce \n",
    "foun_sum = reduce(sum_of_num, num_list)\n",
    "# print result \n",
    "print(f\"'{foun_sum}' is sum of '{num}'\")"
   ]
  },
  {
   "cell_type": "code",
   "execution_count": null,
   "id": "42062d12-7d2c-4389-955f-62d9bbd18575",
   "metadata": {},
   "outputs": [],
   "source": [
    "# Filter :-"
   ]
  },
  {
   "cell_type": "code",
   "execution_count": 25,
   "id": "123e6c56-74da-473c-91ff-3098e70af255",
   "metadata": {},
   "outputs": [
    {
     "name": "stdout",
     "output_type": "stream",
     "text": [
      "Original List:  [2, 33, 4, 55, 6, 789, 2]\n",
      "Odd Number List:  [33, 55, 789]\n"
     ]
    }
   ],
   "source": [
    "# 1. Explain the purpose of the `filter()` function in Python and provide an example of how it can be used to filter elements from an iterable.\n",
    "# The filter() function in Python is used to filter elements from an iterable based on a specified function (predicate). It creates a new iterable containing only the elements for which the function returns True. The general syntax of the filter() function is as follows:\n",
    "# example of use\n",
    "def is_odd(num):\n",
    "    return num % 2 != 0\n",
    "\n",
    "list1 = [2,33,4,55,6,789,2]\n",
    "# use filter function to filter odd\n",
    "filt_odd = list(filter(is_odd, list1))\n",
    "# print result\n",
    "print(\"Original List: \",list1)\n",
    "print(\"Odd Number List: \",filt_odd)"
   ]
  },
  {
   "cell_type": "code",
   "execution_count": 26,
   "id": "bd525537-be3f-48c4-b7c2-b3de4aedf72c",
   "metadata": {},
   "outputs": [
    {
     "name": "stdout",
     "output_type": "stream",
     "text": [
      "even numbers: '[2, 2, 4, 6]' form original list'[33, 2, 2, 4, 5, 6, 65, 45]'\n"
     ]
    }
   ],
   "source": [
    "# 2. Write a Python program that uses the `filter()` function to select even numbers from a list of integers.\n",
    "def is_even(num):\n",
    "    return num % 2 == 0\n",
    "\n",
    "num1 = [33,2,2,4,5,6,65,45]\n",
    "# using filter to find out \n",
    "even_filt = list((filter(is_even, num1)))\n",
    "# print result\n",
    "print(f\"even numbers: '{even_filt}' form original list'{num1}'\")"
   ]
  },
  {
   "cell_type": "code",
   "execution_count": 30,
   "id": "c394dba2-bce5-48e5-8cb7-ea0071834d68",
   "metadata": {},
   "outputs": [
    {
     "name": "stdout",
     "output_type": "stream",
     "text": [
      "Orginal List:  ['banana', 'apple', 'python', 'grapes', 'bus']\n",
      "Start With 'b' List:  ['banana', 'bus']\n"
     ]
    }
   ],
   "source": [
    "# 3. Create a Python program that uses the `filter()` function to select names that start with a specific letter from a list of strings.\n",
    "def word_fun(word):\n",
    "    return word[0] == \"b\"\n",
    "\n",
    "word_list = [\"banana\", \"apple\", \"python\", \"grapes\", \"bus\"]\n",
    "# using  filter \n",
    "word_with_b = list(filter(word_fun, word_list))\n",
    "# print result\n",
    "print(\"Orginal List: \",word_list)\n",
    "print(\"Start With 'b' List: \",word_with_b)"
   ]
  },
  {
   "cell_type": "code",
   "execution_count": 36,
   "id": "4e21d2ca-d212-4d2c-9447-8042b2a50286",
   "metadata": {},
   "outputs": [
    {
     "name": "stdout",
     "output_type": "stream",
     "text": [
      "Original List:  [22, 9, 7, 11, 33, 44, 24]\n",
      "Prime List:  [7, 11]\n"
     ]
    }
   ],
   "source": [
    "# 4. Write a Python program that uses the `filter()` function to select prime numbers from a list of integers.\n",
    "def prime_find(num):\n",
    "    if num < 2:\n",
    "        return False\n",
    "        \n",
    "    for i in range(2, int(num**0.5) + 1):\n",
    "        if num % i == 0:\n",
    "            return False\n",
    "    return True\n",
    "\n",
    "num_list = [22,9,7,11,33,44,24]\n",
    "# find prime using filter \n",
    "filt_prime = list(filter(prime_find, num_list))\n",
    "# print result \n",
    "print(\"Original List: \", num_list)\n",
    "print(\"Prime List: \", filt_prime)"
   ]
  },
  {
   "cell_type": "code",
   "execution_count": 40,
   "id": "a0dcf06a-efee-4231-b907-b622032a0a73",
   "metadata": {},
   "outputs": [
    {
     "name": "stdout",
     "output_type": "stream",
     "text": [
      "Original List:  [1, None, 33, None, 33, None, None, 1, None]\n",
      "Filtered with Removed None List:  [1, 33, 33, 1]\n"
     ]
    }
   ],
   "source": [
    "# 5. How can you use the `filter()` function to remove None values from a list in Python?\n",
    "def None_remove(el):\n",
    "    return el is not None\n",
    "\n",
    "list2 = [1,None, 33, None, 33,None, None,1, None]\n",
    "# using filter function to remove None\n",
    "None_filt = list(filter(None_remove, list2))\n",
    "# print result\n",
    "print(\"Original List: \", list2)\n",
    "print(\"Filtered with Removed None List: \", None_filt)"
   ]
  },
  {
   "cell_type": "code",
   "execution_count": 43,
   "id": "9fad0db8-25ce-45bd-8441-da22da4ee4b9",
   "metadata": {},
   "outputs": [
    {
     "name": "stdout",
     "output_type": "stream",
     "text": [
      "Original List:  ['python', 'javascript', 'php', 'java', 'perl']\n",
      "<=5 Length:  ['php', 'java', 'perl']\n"
     ]
    }
   ],
   "source": [
    "# 6. Create a Python program that uses `filter()` to select words longer than a certain length from a list of strings.\n",
    "def lenw(word):\n",
    "    return len(word) <= 5 #getting word that is 5 or < 5 length\n",
    "\n",
    "word_list = [\"python\", \"javascript\", \"php\", \"java\", \"perl\"]\n",
    "# filter out\n",
    "filt_len = list(filter(lenw, word_list))\n",
    "# print result\n",
    "print(\"Original List: \", word_list)\n",
    "print(\"<=5 Length: \", filt_len)"
   ]
  },
  {
   "cell_type": "code",
   "execution_count": 44,
   "id": "b3d02247-272f-4bce-9072-fe88d2384a13",
   "metadata": {},
   "outputs": [
    {
     "name": "stdout",
     "output_type": "stream",
     "text": [
      "Original List:  [2, 4, 5, 3, 77, 88, 10, 13, 223]\n",
      "get containe < 10:  [2, 4, 5, 3]\n"
     ]
    }
   ],
   "source": [
    "# 7. Write a Python program that uses the `filter()` function to select elements greater than a specified threshold from a list of values.\n",
    "def thres(el1):\n",
    "    return el1 < threshold\n",
    "\n",
    "# initialize threshold\n",
    "threshold = 10\n",
    "# list \n",
    "lst10 = [2,4,5,3,77,88,10,13,223]\n",
    "# filter out\n",
    "filter_el = list(filter(thres, lst10))\n",
    "# print result\n",
    "print(\"Original List: \", lst10)\n",
    "print(\"get containe < 10: \", filter_el)"
   ]
  },
  {
   "cell_type": "code",
   "execution_count": null,
   "id": "7c6b8e48-a980-4a53-841c-0c047e1fba0f",
   "metadata": {},
   "outputs": [],
   "source": [
    "# Recursion:-"
   ]
  },
  {
   "cell_type": "code",
   "execution_count": 45,
   "id": "12196d8b-4d94-471e-9787-6395736c4838",
   "metadata": {},
   "outputs": [
    {
     "name": "stdin",
     "output_type": "stream",
     "text": [
      "Enter Number to find Factorial Number:  5\n"
     ]
    },
    {
     "name": "stdout",
     "output_type": "stream",
     "text": [
      "factorial of '5' is '120'\n"
     ]
    }
   ],
   "source": [
    "# 1. Explain the concept of recursion in Python. How does it differ from iteration?\n",
    "# Ans: Recursion is a technique in which the function calls itself in its body to solve the problem, typically breaking into smaller and more manageable sub-problems. In contrast, Iteration is a technique that repetitively executes a code block until the condition is unmet.\n",
    " # example:\n",
    "def fac(n):\n",
    "    if n == 0:\n",
    "        return 1\n",
    "    else:\n",
    "        return n* fac(n-1)\n",
    "\n",
    "n = int(input(\"Enter Number to find Factorial Number: \"))\n",
    "# call the function\n",
    "result = fac(n)\n",
    "# print result\n",
    "print(f\"factorial of '{n}' is '{result}'\")"
   ]
  },
  {
   "cell_type": "code",
   "execution_count": 47,
   "id": "6eebccba-8183-4caa-8d2f-33928fe31d62",
   "metadata": {},
   "outputs": [
    {
     "name": "stdin",
     "output_type": "stream",
     "text": [
      "enter number to find factorial number:  10\n"
     ]
    },
    {
     "name": "stdout",
     "output_type": "stream",
     "text": [
      "factorial of '10' is '3628800'\n"
     ]
    }
   ],
   "source": [
    "# 2. Write a Python program to calculate the factorial of a number using recursion.\n",
    "def factorial(num):\n",
    "    if num == 0:\n",
    "        return 1\n",
    "    else:\n",
    "        return num*factorial(num-1)\n",
    "\n",
    "# collect number \n",
    "num = int(input(\"enter number to find factorial number: \"))\n",
    "# call the funtion\n",
    "f_result = factorial(num)\n",
    "# print result\n",
    "print(f\"factorial of '{num}' is '{f_result}'\")"
   ]
  },
  {
   "cell_type": "code",
   "execution_count": 2,
   "id": "8b27c93d-4794-4b6e-8488-8d6338729d3b",
   "metadata": {},
   "outputs": [
    {
     "name": "stdin",
     "output_type": "stream",
     "text": [
      "Enter Number to find Fibonacci:  6\n"
     ]
    },
    {
     "name": "stdout",
     "output_type": "stream",
     "text": [
      "'8' is fibonacci of '6'\n"
     ]
    }
   ],
   "source": [
    "# 3. Create a recursive Python function to find the nth Fibonacci number.\n",
    "def fibonacci(n):\n",
    "    if n <= 0:\n",
    "        return 0\n",
    "    elif n == 1:\n",
    "        return 1\n",
    "    else:\n",
    "        return fibonacci(n-1) + fibonacci(n-2)\n",
    "\n",
    "# intput \n",
    "fib_found = int(input(\"Enter Number to find Fibonacci: \"))\n",
    "# call the function\n",
    "fib_result = fibonacci(fib_found)\n",
    "# print result\n",
    "print(f\"'{fib_result}' is fibonacci of '{fib_found}'\")"
   ]
  },
  {
   "cell_type": "code",
   "execution_count": 54,
   "id": "a7fc9df7-8f7d-4291-845b-05d84b9b2f04",
   "metadata": {},
   "outputs": [
    {
     "name": "stdout",
     "output_type": "stream",
     "text": [
      "'42' is sum of '[1, 2, 33, 3, 3]'\n"
     ]
    }
   ],
   "source": [
    "# 4. Write a recursive Python function to calculate the sum of all elements in a list.\n",
    "def sum_of_list(el):\n",
    "    if not el:\n",
    "        return 0\n",
    "    else:\n",
    "        return el[0] + sum_of_list(el[1:])\n",
    "\n",
    "# list \n",
    "list2 = [1,2,33,3,3]\n",
    "# call function\n",
    "result_sum = sum_of_list(list2)\n",
    "# print result\n",
    "print(f\"'{result_sum}' is sum of '{list2}'\")"
   ]
  },
  {
   "cell_type": "code",
   "execution_count": 56,
   "id": "c5890f13-4525-4498-a83b-09f57b91762f",
   "metadata": {},
   "outputs": [
    {
     "name": "stdout",
     "output_type": "stream",
     "text": [
      "The sum of elements in the list [1, 2, 3, 4, 5] is 15\n"
     ]
    }
   ],
   "source": [
    "# 5. How can you prevent a recursive function from running indefinitely, causing a stack overflow error?\n",
    "# Preventing a recursive function from running indefinitely and causing a stack overflow error involves ensuring that the recursion has a proper termination condition\n",
    "def recursive_sum(lst):\n",
    "    if not lst:  # Base case: empty list\n",
    "        return 0\n",
    "    else:\n",
    "        return lst[0] + recursive_sum(lst[1:])  # Progress toward base case\n",
    "\n",
    "# input\n",
    "numbers = [1, 2, 3, 4, 5]\n",
    "# call function\n",
    "result = recursive_sum(numbers)\n",
    "print(f\"The sum of elements in the list {numbers} is {result}\")\n"
   ]
  },
  {
   "cell_type": "code",
   "execution_count": 59,
   "id": "bcf42b82-24e0-4dab-a98f-4ba322d9d74d",
   "metadata": {},
   "outputs": [
    {
     "name": "stdin",
     "output_type": "stream",
     "text": [
      "enter first number:  60\n",
      "enter sec number:  36\n"
     ]
    },
    {
     "name": "stdout",
     "output_type": "stream",
     "text": [
      "'12' is gcd for '60' and '36'\n"
     ]
    }
   ],
   "source": [
    "# 6. Create a recursive Python function to find the greatest common divisor (GCD) of two numbers using the Euclidean algorithm.\n",
    "def ecludean_gcd(x,y):\n",
    "    if y == 0:\n",
    "        return x\n",
    "    else:\n",
    "        return ecludean_gcd(y, x % y)\n",
    "\n",
    "# collecting number\n",
    "num1 = int(input(\"enter first number: \"))\n",
    "num2 = int(input(\"enter sec number: \"))\n",
    "# call function\n",
    "ecludean_gcd(num1,num2)\n",
    "# print result \n",
    "print(f\"'{ecludean_gcd(num1,num2)}' is gcd for '{num1}' and '{num2}'\")"
   ]
  },
  {
   "cell_type": "code",
   "execution_count": 60,
   "id": "e08327ea-04b3-442c-a8d8-fa1d3b63e0c9",
   "metadata": {},
   "outputs": [
    {
     "name": "stdin",
     "output_type": "stream",
     "text": [
      "enter any string:  jammu\n"
     ]
    },
    {
     "name": "stdout",
     "output_type": "stream",
     "text": [
      "reverse string ummaj to: jammu\n"
     ]
    }
   ],
   "source": [
    "# 7. Write a recursive Python function to reverse a string.\n",
    "def rev_str(s):\n",
    "    if not s:\n",
    "        return s\n",
    "    else:\n",
    "        return rev_str(s[1:]) + s[0]\n",
    "# enter string\n",
    "string = input(\"enter any string: \")\n",
    "# call function\n",
    "print(\"reverse string\",rev_str(string), \"to:\",string)"
   ]
  },
  {
   "cell_type": "code",
   "execution_count": 71,
   "id": "66861007-0871-47b4-9ec5-5eeb4a9590b0",
   "metadata": {},
   "outputs": [
    {
     "name": "stdout",
     "output_type": "stream",
     "text": [
      "2 raised to the power 3 is 8\n"
     ]
    }
   ],
   "source": [
    "# 8. Create a recursive Python function to calculate the power of a number (x^n).\n",
    "def pwrt(x, n):\n",
    "    if n == 0:\n",
    "        return 1\n",
    "    else:\n",
    "        return x * pwrt(x, n-1)\n",
    "\n",
    "# Example usage\n",
    "x = 2\n",
    "n = 3\n",
    "\n",
    "# Call function\n",
    "result = pwrt(x, n)\n",
    "print(f\"{x} raised to the power {n} is {result}\")"
   ]
  },
  {
   "cell_type": "code",
   "execution_count": 11,
   "id": "9c1c0427-f7f9-41f7-b1a4-5f2677052170",
   "metadata": {},
   "outputs": [
    {
     "name": "stdin",
     "output_type": "stream",
     "text": [
      "Enter a string:  ABC\n"
     ]
    },
    {
     "name": "stdout",
     "output_type": "stream",
     "text": [
      "All permutations of ABC:\n",
      "ABC\n",
      "ACB\n",
      "BAC\n",
      "BCA\n",
      "CAB\n",
      "CBA\n"
     ]
    }
   ],
   "source": [
    "# 9. Write a recursive Python function to find all permutations of a given string.\n",
    "def permutations(s):\n",
    "    if len(s) <= 1:\n",
    "        return [s]\n",
    "    else:\n",
    "        perms = []\n",
    "        for i, char in enumerate(s):\n",
    "            # Exclude the current character and find permutations of the rest\n",
    "            remaining_chars = s[:i] + s[i+1:]\n",
    "            rest_perms = permutations(remaining_chars)\n",
    "\n",
    "            # Append the current character to each permutation of the rest\n",
    "            for perm in rest_perms:\n",
    "                perms.append(char + perm)\n",
    "\n",
    "        return perms\n",
    "\n",
    "# Example usage\n",
    "input_string = input(\"Enter a string: \")\n",
    "\n",
    "result = permutations(input_string)\n",
    "print(f\"All permutations of {input_string}:\")\n",
    "for perm in result:\n",
    "    print(perm)\n"
   ]
  },
  {
   "cell_type": "code",
   "execution_count": 13,
   "id": "bae4be8a-04cb-444a-9c82-d186e955111b",
   "metadata": {},
   "outputs": [
    {
     "name": "stdin",
     "output_type": "stream",
     "text": [
      "Enter a string:  dad\n"
     ]
    },
    {
     "name": "stdout",
     "output_type": "stream",
     "text": [
      "dad is a palindrome.\n"
     ]
    }
   ],
   "source": [
    "# 10. Write a recursive Python function to check if a string is a palindrome.\n",
    "def is_palindrome(s):\n",
    "    if len(s) <= 1:\n",
    "        return True\n",
    "    elif s[0] == s[-1]:\n",
    "        return is_palindrome(s[1:-1])\n",
    "    else:\n",
    "        return False\n",
    "\n",
    "# collect input and run function\n",
    "input_string = input(\"Enter a string: \")\n",
    "\n",
    "if is_palindrome(input_string):\n",
    "    print(f\"{input_string} is a palindrome.\")\n",
    "else:\n",
    "    print(f\"{input_string} is not a palindrome.\")\n"
   ]
  },
  {
   "cell_type": "code",
   "execution_count": 14,
   "id": "955b0f6b-d1c2-4f6c-bb43-c3fb2a9f7afc",
   "metadata": {},
   "outputs": [
    {
     "name": "stdout",
     "output_type": "stream",
     "text": [
      "Combinations of [1, 2, 3] choose 2: [(1, 2), (1, 3), (2, 3)]\n"
     ]
    }
   ],
   "source": [
    "# 11. Create a recursive Python function to generate all possible combinations of a list of elements.\n",
    "import itertools\n",
    "\n",
    "def combinations(lst, k):\n",
    "    return list(itertools.combinations(lst, k))\n",
    "\n",
    "# assing list\n",
    "elements = [1, 2, 3]\n",
    "k = 2\n",
    "result = combinations(elements, k)\n",
    "print(f\"Combinations of {elements} choose {k}: {result}\")"
   ]
  },
  {
   "cell_type": "code",
   "execution_count": null,
   "id": "f6320e2c-2b1e-4c2f-8863-906afda7e1e0",
   "metadata": {},
   "outputs": [],
   "source": [
    "# Basics of Functions:"
   ]
  },
  {
   "cell_type": "code",
   "execution_count": 26,
   "id": "24df0bec-8e26-4d0e-bfbe-46e39ddeacc7",
   "metadata": {},
   "outputs": [
    {
     "name": "stdout",
     "output_type": "stream",
     "text": [
      "11\n"
     ]
    }
   ],
   "source": [
    "# 1. What is a function in Python, and why is it used?\n",
    "# In Python, a function is a block of code that we can use any funtion in our program we don't need to write multiple lines of code we can just put code inside function and we can use them anytime\n",
    "# example:\n",
    "def funtion_use(n=5, m=6):\n",
    "    return n + m\n",
    "\n",
    "# using here function\n",
    "print(funtion_use())"
   ]
  },
  {
   "cell_type": "code",
   "execution_count": 25,
   "id": "64a76973-4438-4a25-91a9-8fe9964fcc06",
   "metadata": {},
   "outputs": [
    {
     "name": "stdout",
     "output_type": "stream",
     "text": [
      "This is python Basic Function\n",
      "None\n"
     ]
    }
   ],
   "source": [
    "# 2. How do you define a function in Python? Provide an example\n",
    "# to define function we are use def and function_name check below example\n",
    "def function_define():\n",
    "    return print(\"This is python Basic Function\")\n",
    "\n",
    "# call function\n",
    "result = function_define()\n",
    "print(result)"
   ]
  },
  {
   "cell_type": "code",
   "execution_count": 28,
   "id": "60955d6b-0d50-4803-89c9-feab6fdd664d",
   "metadata": {},
   "outputs": [
    {
     "name": "stdout",
     "output_type": "stream",
     "text": [
      "30\n"
     ]
    }
   ],
   "source": [
    "# 3. Explain the difference between a function definition and a function call.\n",
    "# The terms \"function definition\" and \"function call\" refer to two distinct aspects of working with functions in programming.\n",
    "# The function definition is the block of code that defines the behavior of the function. It includes the function name, parameters (if any), the body of the function (the code that is executed when the function is called), and, optionally, a return statement\n",
    "# A function call is the act of invoking or executing a function that has been defined. It involves using the function name, passing arguments (if the function expects any), and obtaining the result (if the function returns a value).\n",
    "def my_function(parameter1, parameter2):\n",
    "    # Function body\n",
    "    result = parameter1 + parameter2\n",
    "    return result\n",
    "# Function call\n",
    "result_of_call = my_function(10, 20)\n",
    "print(result_of_call)"
   ]
  },
  {
   "cell_type": "code",
   "execution_count": 30,
   "id": "579564ba-e5b0-4fb6-9e75-e5ade6c020b1",
   "metadata": {},
   "outputs": [
    {
     "name": "stdout",
     "output_type": "stream",
     "text": [
      "60\n"
     ]
    }
   ],
   "source": [
    "# 4. Write a Python program that defines a function to calculate the sum of two numbers and then calls the function.\n",
    "def sum_of(a,b):\n",
    "    return a+b\n",
    "\n",
    "# call the function with arguement value\n",
    "result_sum = sum_of(49,11)\n",
    "# print result \n",
    "print(result_sum)"
   ]
  },
  {
   "cell_type": "code",
   "execution_count": 32,
   "id": "74d09317-dade-4478-8e81-16d943e74a00",
   "metadata": {},
   "outputs": [
    {
     "name": "stdout",
     "output_type": "stream",
     "text": [
      "4\n"
     ]
    }
   ],
   "source": [
    "# 5. What is a function signature, and what information does it typically include?\n",
    "# A function signature refers to the declaration of a function in a programming language, and it typically includes the following informatio\n",
    "# Function Name, Return Type, Parameters/Arguments\n",
    "def add_numbers(x: int, y: int) -> int:\n",
    "    \"\"\"\n",
    "    Adds two numbers and returns the result.\n",
    "\n",
    "    Parameters:\n",
    "    - x (int): The first number.\n",
    "    - y (int): The second number.\n",
    "\n",
    "    Returns:\n",
    "    - int: The sum of x and y.\n",
    "    \"\"\"\n",
    "    return x + y\n",
    "result = add_numbers(2,2)\n",
    "# print result \n",
    "print(result)"
   ]
  },
  {
   "cell_type": "code",
   "execution_count": 33,
   "id": "d49ceba9-b2d7-4d4f-a8e5-afc0713824d0",
   "metadata": {},
   "outputs": [
    {
     "name": "stdout",
     "output_type": "stream",
     "text": [
      "30\n"
     ]
    }
   ],
   "source": [
    "# 6. Create a Python function that takes two arguments and returns their product.\n",
    "def product(x,y):\n",
    "    return x*y\n",
    "\n",
    "# assing value\n",
    "x = 5\n",
    "y = 6\n",
    "# call function and pass value\n",
    "result = product(x,y)\n",
    "# print result \n",
    "print(result)"
   ]
  },
  {
   "cell_type": "code",
   "execution_count": null,
   "id": "43d75422-89b1-40fb-88c8-783838c4101c",
   "metadata": {},
   "outputs": [],
   "source": [
    "# Function Parameters and Arguments:"
   ]
  },
  {
   "cell_type": "code",
   "execution_count": 34,
   "id": "a7c1740c-8698-40a9-95d4-c113d61fc1e7",
   "metadata": {},
   "outputs": [],
   "source": [
    "# 1. Explain the concepts of formal parameters and actual arguments in Python functions.\n",
    "# In Python functions, the concepts of formal parameters and actual arguments refer to the variables used in the function definition (formal parameters) and the values passed to the function during the function call (actual arguments).\n",
    "# formal parameters\n",
    "# Formal parameters are variables that are used in the function definition to represent the values that the function expects to receive when it is called.\n",
    "    # ex: \n",
    "def add_numbers(x, y):\n",
    "    # x and y are formal parameters\n",
    "    result = x + y\n",
    "    return result\n",
    "# actual arguement\n",
    "# Actual arguments are the values that are passed to the function during the function call. These are the real data or variables that will be used in the function's calculations.\n",
    "# example\n",
    "# 2 and 3 are actual arguments\n",
    "sum_result = add_numbers(2, 3)"
   ]
  },
  {
   "cell_type": "code",
   "execution_count": 36,
   "id": "44180626-7f97-44d3-90f8-fce97ec371f0",
   "metadata": {},
   "outputs": [
    {
     "name": "stdout",
     "output_type": "stream",
     "text": [
      "Hello, Guest!\n",
      "Good morning, Alice!\n",
      "Hello, Guest!\n",
      "None\n"
     ]
    }
   ],
   "source": [
    "# 2. Write a Python program that defines a function with default argument values.\n",
    "# Here's an example of a Python program that defines a function with default argument values:\n",
    "def default_fun(name=\"Guest\", greeting=\"Hello\"):\n",
    "    \"\"\"A function that greets a person with a customizable greeting.\"\"\"\n",
    "    print(f\"{greeting}, {name}!\")\n",
    "\n",
    "# Calling the function with default values\n",
    "default_fun()\n",
    "\n",
    "# Calling the function with custom values\n",
    "default_fun(\"Alice\", \"Good morning\")\n",
    "# print result\n",
    "print(default_fun())"
   ]
  },
  {
   "cell_type": "code",
   "execution_count": 38,
   "id": "66a27fe7-05df-4432-833f-50e4c97df1dd",
   "metadata": {},
   "outputs": [
    {
     "name": "stdout",
     "output_type": "stream",
     "text": [
      "Name: 'bm', city:'delhi', age:'21'\n",
      "None\n"
     ]
    }
   ],
   "source": [
    "# 3. How do you use keyword arguments in Python function calls? Provide an example.\n",
    "\n",
    "# In Python, you can use keyword arguments to specify which parameter a particular argument should be assigned to when calling a function. This allows you to pass arguments out of order, and it can make the code more readable. Here's an example:\n",
    "def keyar(name, city, age):\n",
    "    print(f\"Name: '{name}', city:'{city}', age:'{age}'\")\n",
    "\n",
    "# calling funtion and pass value\n",
    "print(keyar(name=\"bm\", city=\"delhi\", age=\"21\"))"
   ]
  },
  {
   "cell_type": "code",
   "execution_count": 39,
   "id": "3654330f-c1f5-474f-b500-7421d6740a37",
   "metadata": {},
   "outputs": [
    {
     "name": "stdout",
     "output_type": "stream",
     "text": [
      "27\n"
     ]
    }
   ],
   "source": [
    "# 4. Create a Python function that accepts a variable number of arguments and calculates their sum.\n",
    "def sumval(*arg):\n",
    "    return sum(arg)\n",
    "\n",
    "# print result\n",
    "print(sumval(1,4,5,8,9))"
   ]
  },
  {
   "cell_type": "code",
   "execution_count": 43,
   "id": "63b5068d-13bd-48e6-a967-c36867d2da21",
   "metadata": {},
   "outputs": [
    {
     "name": "stdout",
     "output_type": "stream",
     "text": [
      "1\n",
      "2\n",
      "3\n",
      "four\n",
      "name: bm\n",
      "age: 21\n",
      "city: mumbai\n"
     ]
    }
   ],
   "source": [
    "# 5. What is the purpose of the `*args` and `**kwargs` syntax in function parameter lists?\n",
    "# The *args and **kwargs syntax in function parameter lists are used to handle a variable number of arguments in Python functions.\n",
    "\n",
    "# *args\n",
    "# The *args syntax allows a function to accept a variable number of positional arguments. It collects all the positional arguments passed to the function into a tuple.\n",
    "def print_arguments(*args):\n",
    "    for arg in args:\n",
    "        print(arg)\n",
    "\n",
    "print_arguments(1, 2, 3, \"four\")\n",
    "\n",
    "# **kwargs\n",
    "# The **kwargs syntax allows a function to accept a variable number of keyword arguments. It collects all the keyword arguments passed to the function into a dictionary.\n",
    "def kwarg(**kwarg):\n",
    "    for key, value in kwarg.items():\n",
    "        print(f\"{key}: {value}\")\n",
    "\n",
    "kwarg(name=\"bm\", age=21, city=\"mumbai\")"
   ]
  },
  {
   "cell_type": "code",
   "execution_count": null,
   "id": "705b2c79-d6c3-4143-91f4-9b3aee9afb33",
   "metadata": {},
   "outputs": [],
   "source": [
    "# Return Values and Scoping:"
   ]
  },
  {
   "cell_type": "code",
   "execution_count": 44,
   "id": "4f9f291c-30c2-4682-9a0e-ed513bfccf54",
   "metadata": {},
   "outputs": [
    {
     "name": "stdout",
     "output_type": "stream",
     "text": [
      "7\n"
     ]
    }
   ],
   "source": [
    "# 1. Describe the role of the `return` statement in Python functions and provide examples.\n",
    "# The return statement in Python functions is used to send a value back from the function to the calling code. It serves the following purposes:\n",
    "# A function can calculate a result and use return to send that result back to the caller.\n",
    "# example\n",
    "def add_numbers(a, b):\n",
    "    \"\"\"A function that returns the sum of two numbers.\"\"\"\n",
    "    return a + b\n",
    "\n",
    "result = add_numbers(3, 4)\n",
    "print(result)  # Output: 7\n"
   ]
  },
  {
   "cell_type": "code",
   "execution_count": 46,
   "id": "9f706829-4628-4531-b11f-1ae43f53b337",
   "metadata": {},
   "outputs": [
    {
     "name": "stdout",
     "output_type": "stream",
     "text": [
      "Inside the function: 10\n",
      "Inside another_function: 20\n",
      "Outside another_function: 20\n"
     ]
    }
   ],
   "source": [
    "# 2. Explain the concept of variable scope in Python, including local and global variables.\n",
    "# ans: Variable scope in Python refers to the region of a program where a particular variable can be accessed or modified. Python has two main types of variable scope: local scope and global scope.\n",
    "# Local Variable Scope:\n",
    "def example_function():\n",
    "    # Local variable 'x' is defined within the function\n",
    "    x = 10\n",
    "    print(\"Inside the function:\", x)\n",
    "\n",
    "example_function()\n",
    "# Trying to access 'x' outside the function would result in an error\n",
    "# print(\"Outside the function:\", x)  # Uncommenting this line will result in an error\n",
    "\n",
    "# Global Variable Scope:\n",
    "# A global variable is one that is defined outside any function or in the global scope. It can be accessed from any part of the program, both inside and outside functions.\n",
    "# example\n",
    "# Global variable 'y' is defined outside any function\n",
    "y = 20\n",
    "\n",
    "def another_function():\n",
    "    # Accessing the global variable 'y' from within the function\n",
    "    print(\"Inside another_function:\", y)\n",
    "\n",
    "another_function()\n",
    "# Accessing the global variable 'y' outside the function\n",
    "print(\"Outside another_function:\", y)\n"
   ]
  },
  {
   "cell_type": "code",
   "execution_count": 47,
   "id": "7e204c95-6338-445e-8487-e29eca887c2d",
   "metadata": {},
   "outputs": [
    {
     "name": "stdout",
     "output_type": "stream",
     "text": [
      "Inside increment_global: 11\n"
     ]
    }
   ],
   "source": [
    "# 3. Write a Python program that demonstrates the use of global variables within functions.\n",
    "gobal_val = 10\n",
    "def use_glob_val():\n",
    "    # use global inside function\n",
    "    global gobal_val\n",
    "    # increament 1 in global_val\n",
    "    gobal_val +=1\n",
    "    print(\"Inside increment_global:\", gobal_val)\n",
    "\n",
    "# call function\n",
    "use_glob_val()"
   ]
  },
  {
   "cell_type": "code",
   "execution_count": 48,
   "id": "22ee2806-358d-4d98-9b04-6e65b961cf08",
   "metadata": {},
   "outputs": [
    {
     "name": "stdin",
     "output_type": "stream",
     "text": [
      "Enter Value:  5\n"
     ]
    },
    {
     "name": "stdout",
     "output_type": "stream",
     "text": [
      "120\n"
     ]
    }
   ],
   "source": [
    "# 4. Create a Python function that calculates the factorial of a number and returns it.\n",
    "def cal_fac(n):\n",
    "    if n <= 1:\n",
    "        return 1\n",
    "    else:\n",
    "        # intialize result\n",
    "        result = 1\n",
    "        for i in range(2,n+1):\n",
    "            result *=i\n",
    "        return result\n",
    "\n",
    "# input \n",
    "n = int(input(\"Enter Value: \"))\n",
    "# print and call funtion\n",
    "print(cal_fac(n))"
   ]
  },
  {
   "cell_type": "code",
   "execution_count": 49,
   "id": "3a343d9c-4dff-4dee-93c7-1836fe4abc1d",
   "metadata": {},
   "outputs": [
    {
     "name": "stdout",
     "output_type": "stream",
     "text": [
      "99\n"
     ]
    }
   ],
   "source": [
    "# 5. How can you access variables defined outside a function from within the function?\n",
    "out_val = 100\n",
    "def access_out_val():\n",
    "    # substract 1\n",
    "    global out_val\n",
    "    out_val -=1\n",
    "    print(out_val)\n",
    "\n",
    "# call the function\n",
    "access_out_val()"
   ]
  },
  {
   "cell_type": "code",
   "execution_count": 50,
   "id": "de54b6c0-9390-4b4b-8d26-c3ba7b0e62ee",
   "metadata": {},
   "outputs": [],
   "source": [
    "# Lambda Functions and Higher-Order Functions:"
   ]
  },
  {
   "cell_type": "code",
   "execution_count": 51,
   "id": "db57b276-68cc-482d-8fe8-4e80b3c9a58c",
   "metadata": {},
   "outputs": [
    {
     "name": "stdout",
     "output_type": "stream",
     "text": [
      "8\n"
     ]
    }
   ],
   "source": [
    "# 1. What are lambda functions in Python, and when are they typically used?\n",
    "# ans: In Python, a lambda function is a concise way to create anonymous functions, also known as lambda expressions. Unlike regular functions defined using the def keyword, lambda functions are defined using the lambda keyword. Lambda functions are often used for short-lived operations where a full function definition would be unnecessarily verbose.\n",
    "# example:\n",
    "# lambda arguments: expression\n",
    "add_lambda = lambda x, y: x + y\n",
    "result2 = add_lambda(5, 3)\n",
    "print(result2)"
   ]
  },
  {
   "cell_type": "code",
   "execution_count": 53,
   "id": "2bc22875-d422-4cab-bd83-f58131399ae2",
   "metadata": {},
   "outputs": [
    {
     "name": "stdout",
     "output_type": "stream",
     "text": [
      "Original List: [(1, 5), (3, 2), (2, 8), (4, 1)]\n",
      "Sorted List based on the second element: [(4, 1), (3, 2), (1, 5), (2, 8)]\n"
     ]
    }
   ],
   "source": [
    "# 2. Write a Python program that uses lambda functions to sort a list of tuples based on the second element.\n",
    "# List of tuples\n",
    "tuples_list = [(1, 5), (3, 2), (2, 8), (4, 1)]\n",
    "\n",
    "# Sorting the list based on the second element of each tuple\n",
    "sorted_list = sorted(tuples_list, key=lambda x: x[1])\n",
    "\n",
    "# Displaying the sorted list\n",
    "print(\"Original List:\", tuples_list)\n",
    "print(\"Sorted List based on the second element:\", sorted_list)\n"
   ]
  },
  {
   "cell_type": "code",
   "execution_count": 54,
   "id": "3760aa9e-1204-4a85-b529-a99e1d36e0d4",
   "metadata": {},
   "outputs": [
    {
     "name": "stdout",
     "output_type": "stream",
     "text": [
      "8\n",
      "27\n"
     ]
    }
   ],
   "source": [
    "# 3. Explain the concept of higher-order functions in Python, and provide an example.\n",
    "# In Python, a higher-order function is a function that can take another function as an argument, or it can return a function as its result. This concept is a fundamental aspect of functional programming and allows for the composition of functions, creating more modular and reusable code.\n",
    "# example\n",
    "def main_fun(func, x, y):\n",
    "    return func(x,y)\n",
    "\n",
    "# adding\n",
    "def addd(x,y):\n",
    "    return x + y\n",
    "\n",
    "# mul\n",
    "def mul(x,y):\n",
    "    return x*y\n",
    "\n",
    "# call multiple func\n",
    "result1 = main_fun(addd, 3,5)\n",
    "result2 = main_fun(mul, 3, 9)\n",
    "# print result\n",
    "print(result1)\n",
    "print(result2)"
   ]
  },
  {
   "cell_type": "code",
   "execution_count": 60,
   "id": "6030e21e-45dc-4e5d-becf-9de19a6c15de",
   "metadata": {},
   "outputs": [
    {
     "name": "stdout",
     "output_type": "stream",
     "text": [
      "Original List:  [2, 3, 4, 5]\n",
      "added +2 in each element:  [4, 5, 6, 7]\n"
     ]
    }
   ],
   "source": [
    "# 4. Create a Python function that takes a list of numbers and a function as arguments, applying the function to each element in the list.\n",
    "list1 = [2,3,4,5]\n",
    "# use lambda function\n",
    "result_lam = list(map(lambda x:x+2, list1))\n",
    "# print result\n",
    "print(\"Original List: \",list1)\n",
    "print(\"added +2 in each element: \",result_lam)"
   ]
  },
  {
   "cell_type": "code",
   "execution_count": null,
   "id": "5b65b4e4-32c6-40e4-9473-b58c8743c665",
   "metadata": {},
   "outputs": [],
   "source": [
    "# Built-in Functions:"
   ]
  },
  {
   "cell_type": "code",
   "execution_count": 63,
   "id": "d552b6e8-179a-40c2-a1d3-b6c305ce381b",
   "metadata": {},
   "outputs": [
    {
     "name": "stdout",
     "output_type": "stream",
     "text": [
      "length of list2:  8\n",
      "max is '12' in '[4, 2, 5, 7, 8, 6, 5, 12]'\n",
      "min is '2' in '[4, 2, 5, 7, 8, 6, 5, 12]'\n"
     ]
    }
   ],
   "source": [
    "# 1. Describe the role of built-in functions like `len()`, `max()`, and `min()` in Python.\n",
    "# Built-in functions like len(), max(), and min() in Python serve essential roles in performing common operations on data structures. Here's a brief description of each:\n",
    "# example\n",
    "list2 = [4,2,5,7,8,6,5,12]\n",
    "# The len() function is used to get the number of items in an iterable object, such as a list, tuple, string, etc.\n",
    "print(\"length of list2: \",len(list2))\n",
    "# max(iterable, key=default, default=None) - Maximum Function: The max() function returns the largest item in an iterable or the largest of two or more arguments.\n",
    "print(f\"max is '{max(list2)}' in '{list2}'\")\n",
    "# min(iterable, key=default, default=None) - Minimum Function: The min() function returns the smallest item in an iterable or the smallest of two or more arguments.\n",
    "print(f\"min is '{min(list2)}' in '{list2}'\")"
   ]
  },
  {
   "cell_type": "code",
   "execution_count": 64,
   "id": "010bb52e-f127-465a-994b-c3bc3cf39d5c",
   "metadata": {},
   "outputs": [
    {
     "name": "stdout",
     "output_type": "stream",
     "text": [
      "Original List:  [2, 3, 4, 5]\n",
      "Square List:  [4, 9, 16, 25]\n"
     ]
    }
   ],
   "source": [
    "# 2. Write a Python program that uses the `map()` function to apply a function to each element of a list.\n",
    "list3 = [2,3,4,5]\n",
    "# finding square suppose\n",
    "square = list(map(lambda x: x**2, list3))\n",
    "# result\n",
    "print(\"Original List: \", list3)\n",
    "print(\"Square List: \", square)"
   ]
  },
  {
   "cell_type": "code",
   "execution_count": 68,
   "id": "37e0cf38-2163-4b17-9dfa-ebe7364ab831",
   "metadata": {},
   "outputs": [
    {
     "name": "stdout",
     "output_type": "stream",
     "text": [
      "original list: [3, 2, 5, 5, 8, 9]\n",
      "even numbers list: [2, 8]\n"
     ]
    }
   ],
   "source": [
    "# 3. How does the `filter()` function work in Python, and when would you use it?\n",
    "# ans: The filter() function in Python is used to construct an iterator from elements of an iterable for which a function returns true. In other words, it filters elements based on a given function. The syntax of the filter() function is as follows:\n",
    "# assing \n",
    "# filter(function, iterable)\n",
    "# example\n",
    "list4 = [3,2,5,5,8,9]\n",
    "# find even number\n",
    "even_only = list(filter(lambda x:x % 2 == 0, list4))\n",
    "# print result\n",
    "print(\"original list:\", list4)\n",
    "print(\"even numbers list:\", even_only)"
   ]
  },
  {
   "cell_type": "code",
   "execution_count": 72,
   "id": "28a0e94c-b586-43c2-ac1d-3ea55cc4e4dd",
   "metadata": {},
   "outputs": [
    {
     "name": "stdout",
     "output_type": "stream",
     "text": [
      "original list: [1, 2, 3, 4, 5, 6, 7, 8, 9, 10]\n",
      "product of element list: [3628800]\n"
     ]
    }
   ],
   "source": [
    "# 4. Create a Python program that uses the `reduce()` function to find the product of all elements in a list.\n",
    "from functools import reduce\n",
    "list5 = [1,2,3,4,5,6,7,8,9,10]\n",
    "# find product\n",
    "product_of_el = [reduce(lambda p,q: p*q, list5)]\n",
    "# print result\n",
    "print(\"original list:\", list5)\n",
    "print(\"product of element list:\", product_of_el)"
   ]
  },
  {
   "cell_type": "code",
   "execution_count": null,
   "id": "690a1dff-0114-4dbf-be1e-46ff7d42e311",
   "metadata": {},
   "outputs": [],
   "source": [
    "# Function Documentation and Best Practices:"
   ]
  },
  {
   "cell_type": "code",
   "execution_count": 75,
   "id": "885a0b25-3d71-4cd3-9749-35a336ee4a02",
   "metadata": {},
   "outputs": [
    {
     "data": {
      "text/plain": [
       "4"
      ]
     },
     "execution_count": 75,
     "metadata": {},
     "output_type": "execute_result"
    }
   ],
   "source": [
    "# 1. Explain the purpose of docstrings in Python functions and how to write them.\n",
    "# ans: In Python, a docstring is a string literal that occurs as the first statement in a module, function, class, or method definition. The primary purpose of docstrings is to provide documentation for code, describing the purpose, usage, and behavior of the module, function, class, or method. Docstrings are not just comments; they are special strings that are accessible at runtime and can be used by tools like help() and documentation generators.\n",
    "# example:\n",
    "\"\"\"\n",
    "This module provides utility functions for working with numbers.\n",
    "\"\"\"\n",
    "def add_numbers(a, b):\n",
    "    \"\"\"\n",
    "    Adds two numbers and returns the result.\n",
    "\n",
    "    Parameters:\n",
    "    a (int): The first number.\n",
    "    b (int): The second number.\n",
    "\n",
    "    Returns:\n",
    "    int: The sum of the two numbers.\n",
    "    \"\"\"\n",
    "    return a + b\n",
    "\n",
    "\n",
    "add_numbers(1,3)"
   ]
  },
  {
   "cell_type": "code",
   "execution_count": 77,
   "id": "8745d041-b60c-48ea-8b11-635f0bf11d51",
   "metadata": {},
   "outputs": [],
   "source": [
    "# 2. Describe some best practices for naming functions and variables in Python, including naming conventions and guidelines.\n",
    "# ans: Naming conventions and guidelines are important for writing clean, readable, and maintainable Python code. Here are some best practices for naming functions and variables in Python:\n",
    "# Use Descriptive Names:\n",
    "# Choose names that clearly convey the purpose or meaning of the function or variable. Avoid overly cryptic names that might confuse others (or even yourself).\n",
    "\n",
    "# Function and Variable Names:\n",
    "# def calculate_sum(a, b):\n",
    "#     result = a + b\n",
    "#     return result\n",
    "\n",
    "# Constants\n",
    "# MAX_LIMIT = 100\n",
    "\n",
    "# Classes\n",
    "# class MyClass:\n",
    "#     # pass\n",
    "\n",
    "# Avoid Single-Character Names:\n",
    "# Use meaningful names instead of single-character names (except in certain cases like loop indices).\n",
    "\n",
    "# Be Consistent:\n",
    "# Maintain consistency in naming across your codebase. If you use a certain naming style, stick with it.\n",
    "\n",
    "# Use Verb-Noun Pairing for Functions:\n",
    "# Choose function names that imply actions. Use verb-noun pairing to indicate what the function does.\n",
    "\n",
    "# Avoid Shadowing Built-in Names:\n",
    "# Avoid using names that shadow Python built-in functions or modules (e.g., don't name a variable list).\n",
    "\n",
    "# Provide Defaults in Functions:\n",
    "# When a function has parameters with default values, make sure the default values are descriptive.\n",
    "# def greet(name=\"Guest\"):\n",
    "#     print(\"Hello, \" + name)\n",
    "\n",
    "# Use Plural for Collections:\n",
    "# Use plural names for variables representing collections or sequences.\n",
    "# students = [\"Addit\", \"Bob\", \"Karan\"]\n",
    "\n",
    "# Avoid Hungarian Notation:\n",
    "# Avoid using Hungarian notation (e.g., prefixing variable names with their type) in Python. The type is generally clear from the context.\n"
   ]
  }
 ],
 "metadata": {
  "kernelspec": {
   "display_name": "Python 3 (ipykernel)",
   "language": "python",
   "name": "python3"
  },
  "language_info": {
   "codemirror_mode": {
    "name": "ipython",
    "version": 3
   },
   "file_extension": ".py",
   "mimetype": "text/x-python",
   "name": "python",
   "nbconvert_exporter": "python",
   "pygments_lexer": "ipython3",
   "version": "3.12.0"
  }
 },
 "nbformat": 4,
 "nbformat_minor": 5
}
